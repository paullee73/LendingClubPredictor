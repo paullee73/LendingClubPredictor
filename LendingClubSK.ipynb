{
  "nbformat": 4,
  "nbformat_minor": 0,
  "metadata": {
    "colab": {
      "name": "LendingClubSK.ipynb",
      "version": "0.3.2",
      "views": {},
      "default_view": {},
      "provenance": [],
      "collapsed_sections": [
        "Uocet4GoZSYV",
        "2S2zKR24ZiLl"
      ]
    },
    "kernelspec": {
      "name": "python3",
      "display_name": "Python 3"
    },
    "accelerator": "GPU"
  },
  "cells": [
    {
      "metadata": {
        "id": "JZJc6ZtRZOm9",
        "colab_type": "text"
      },
      "cell_type": "markdown",
      "source": [
        "# **1. Introduction**\n",
        "\n",
        "LendingClub is a US peer-to-peer lending company the world's largest peer-to-peer lending platform. According to Wikpedia\n",
        "\n",
        "```\n",
        "Lending Club enables borrowers to create unsecured personal loans between $1,000 and $40,000. The standard loan period is three years. Investors can search and browse the loan listings on Lending Club website and select loans that they want to invest in based on the information supplied about the borrower, amount of loan, loan grade, and loan purpose. Investors make money from interest. Lending Club makes money by charging borrowers an origination fee and investors a service fee.\n",
        "```\n",
        "\n",
        "In this project, we will only use data available to investors via the LendingClub listing. We will only consider loans that the LendingClub accepts under its credit underwriting policy."
      ]
    },
    {
      "metadata": {
        "id": "Uocet4GoZSYV",
        "colab_type": "text"
      },
      "cell_type": "markdown",
      "source": [
        "# **2. Importing the Dataset**\n",
        "\n",
        "The dataset can be found [here](https://www.kaggle.com/wordsforthewise/lending-club). It is a 1.8GB dataset with 1,646,801 loans and 150 variables for each loan. Download the file accepted_2007_to_2017Q3.csv.gz.zip locally onto your computer."
      ]
    },
    {
      "metadata": {
        "id": "AE-oNhHCZUwG",
        "colab_type": "code",
        "colab": {
          "autoexec": {
            "startup": false,
            "wait_interval": 0
          }
        }
      },
      "cell_type": "code",
      "source": [
        "import numpy as np\n",
        "import scipy as sp\n",
        "import pandas as pd\n",
        "import matplotlib as mpl\n",
        "import matplotlib.pyplot as plt\n",
        "import seaborn as sns\n",
        "\n",
        "# Pandas options\n",
        "pd.set_option('display.max_colwidth', 1000, 'display.max_rows', None, 'display.max_columns', None)\n",
        "\n",
        "# Plotting options\n",
        "%matplotlib inline\n",
        "mpl.style.use('ggplot')\n",
        "sns.set(style='whitegrid')"
      ],
      "execution_count": 0,
      "outputs": []
    },
    {
      "metadata": {
        "id": "mYgWpmggZZ8C",
        "colab_type": "text"
      },
      "cell_type": "markdown",
      "source": [
        "Upload the file onto your colaboratory notebook."
      ]
    },
    {
      "metadata": {
        "id": "Wsw_ThSCZYvj",
        "colab_type": "code",
        "colab": {
          "autoexec": {
            "startup": false,
            "wait_interval": 0
          },
          "resources": {
            "http://localhost:8080/nbextensions/google.colab/files.js": {
              "data": "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",
              "ok": true,
              "headers": [
                [
                  "content-type",
                  "application/javascript"
                ]
              ],
              "status": 200,
              "status_text": "OK"
            }
          },
          "base_uri": "https://localhost:8080/",
          "height": 81
        },
        "outputId": "2cd5da0e-4501-4c10-bcb7-9a93b0f6a7fc",
        "executionInfo": {
          "status": "ok",
          "timestamp": 1533577617400,
          "user_tz": 240,
          "elapsed": 670837,
          "user": {
            "displayName": "Paul Lee",
            "photoUrl": "https://lh3.googleusercontent.com/a/default-user=s128",
            "userId": "114787872793332384859"
          }
        }
      },
      "cell_type": "code",
      "source": [
        "from google.colab import files\n",
        "uploaded = files.upload();"
      ],
      "execution_count": 2,
      "outputs": [
        {
          "output_type": "display_data",
          "data": {
            "text/html": [
              "\n",
              "     <input type=\"file\" id=\"files-d65b333f-668b-42a4-a074-6d429a843700\" name=\"files[]\" multiple disabled />\n",
              "     <output id=\"result-d65b333f-668b-42a4-a074-6d429a843700\">\n",
              "      Upload widget is only available when the cell has been executed in the\n",
              "      current browser session. Please rerun this cell to enable.\n",
              "      </output>\n",
              "      <script src=\"/nbextensions/google.colab/files.js\"></script> "
            ],
            "text/plain": [
              "<IPython.core.display.HTML object>"
            ]
          },
          "metadata": {
            "tags": []
          }
        },
        {
          "output_type": "stream",
          "text": [
            "Saving accepted_2007_to_2017Q3.csv.gz to accepted_2007_to_2017Q3.csv.gz\n"
          ],
          "name": "stdout"
        }
      ]
    },
    {
      "metadata": {
        "id": "m1Z9bxaoZenL",
        "colab_type": "code",
        "colab": {
          "autoexec": {
            "startup": false,
            "wait_interval": 0
          },
          "base_uri": "https://localhost:8080/",
          "height": 72
        },
        "outputId": "aa9caac8-10ff-4eec-e35e-5a8f551ce49e",
        "executionInfo": {
          "status": "ok",
          "timestamp": 1533578259126,
          "user_tz": 240,
          "elapsed": 45533,
          "user": {
            "displayName": "Paul Lee",
            "photoUrl": "https://lh3.googleusercontent.com/a/default-user=s128",
            "userId": "114787872793332384859"
          }
        }
      },
      "cell_type": "code",
      "source": [
        "loans = pd.read_csv('accepted_2007_to_2017Q3.csv.gz', compression='gzip', low_memory=True)"
      ],
      "execution_count": 3,
      "outputs": [
        {
          "output_type": "stream",
          "text": [
            "/usr/local/lib/python3.6/dist-packages/IPython/core/interactiveshell.py:2718: DtypeWarning: Columns (0,18,48,58,117,128,129,130,133,134,135,138,144,145,146) have mixed types. Specify dtype option on import or set low_memory=False.\n",
            "  interactivity=interactivity, compiler=compiler, result=result)\n"
          ],
          "name": "stderr"
        }
      ]
    },
    {
      "metadata": {
        "id": "2S2zKR24ZiLl",
        "colab_type": "text"
      },
      "cell_type": "markdown",
      "source": [
        "# **3. Cleaning Up the Dataset**\n",
        "We will predict the ```loan_status``` variable. We want to only consider loans that are either fully paid or charged off. We won't consider loans that are current, don't meet the policy, invalid, etc. "
      ]
    },
    {
      "metadata": {
        "id": "eRyHqXpNZnLo",
        "colab_type": "code",
        "colab": {
          "autoexec": {
            "startup": false,
            "wait_interval": 0
          },
          "base_uri": "https://localhost:8080/",
          "height": 69
        },
        "outputId": "df79da68-3505-44cb-db06-b940a3f2997f",
        "executionInfo": {
          "status": "ok",
          "timestamp": 1533578325774,
          "user_tz": 240,
          "elapsed": 993,
          "user": {
            "displayName": "Paul Lee",
            "photoUrl": "https://lh3.googleusercontent.com/a/default-user=s128",
            "userId": "114787872793332384859"
          }
        }
      },
      "cell_type": "code",
      "source": [
        "loans = loans.loc[loans['loan_status'].isin(['Fully Paid', 'Charged Off'])]\n",
        "loans['loan_status'].value_counts(normalize=True, dropna=False)"
      ],
      "execution_count": 4,
      "outputs": [
        {
          "output_type": "execute_result",
          "data": {
            "text/plain": [
              "Fully Paid     0.793758\n",
              "Charged Off    0.206242\n",
              "Name: loan_status, dtype: float64"
            ]
          },
          "metadata": {
            "tags": []
          },
          "execution_count": 4
        }
      ]
    },
    {
      "metadata": {
        "id": "Ky-GYhMnZvqm",
        "colab_type": "text"
      },
      "cell_type": "markdown",
      "source": [
        "About 79.3% of loans are fully paid off and 20.6% of loans are charged off.\n",
        "\n",
        "Next, drop all features with more than 30% of data missing."
      ]
    },
    {
      "metadata": {
        "id": "iZXQoBWNZyYm",
        "colab_type": "code",
        "colab": {
          "autoexec": {
            "startup": false,
            "wait_interval": 0
          }
        }
      },
      "cell_type": "code",
      "source": [
        "missing_fractions = loans.isnull().mean().sort_values(ascending=False) #calculate percentage of missing data for each feature\n",
        "drop_list = sorted(list(missing_fractions[missing_fractions > 0.3].index))\n",
        "loans.drop(labels=drop_list, axis=1, inplace=True)"
      ],
      "execution_count": 0,
      "outputs": []
    },
    {
      "metadata": {
        "id": "cZ7Ew33OZ0da",
        "colab_type": "text"
      },
      "cell_type": "markdown",
      "source": [
        "Now, only use the features available to investors. "
      ]
    },
    {
      "metadata": {
        "id": "szB0_BXyZ2Xk",
        "colab_type": "code",
        "colab": {
          "autoexec": {
            "startup": false,
            "wait_interval": 0
          }
        }
      },
      "cell_type": "code",
      "source": [
        "keep_list = ['addr_state', 'annual_inc', 'application_type', 'dti', 'earliest_cr_line', \n",
        "             'emp_length', 'emp_title', 'fico_range_high', 'fico_range_low', 'grade', 'home_ownership', \n",
        "             'id', 'initial_list_status', 'installment', 'int_rate', 'issue_d', 'loan_amnt', 'loan_status', \n",
        "             'mort_acc', 'open_acc', 'pub_rec', 'pub_rec_bankruptcies', 'purpose', 'revol_bal', 'revol_util', \n",
        "             'sub_grade', 'term', 'title', 'total_acc', 'verification_status', 'zip_code']\n",
        "drop_list = [col for col in loans.columns if col not in keep_list]\n",
        "loans.drop(labels=drop_list, axis=1, inplace=True)"
      ],
      "execution_count": 0,
      "outputs": []
    },
    {
      "metadata": {
        "id": "_7BkLGenZ3wG",
        "colab_type": "text"
      },
      "cell_type": "markdown",
      "source": [
        "# **4. Pre-Processing**\n",
        "We will drop any features that are not useful for predicting the loan status and modify features to make it more useful for modeling."
      ]
    },
    {
      "metadata": {
        "id": "qH2uJxJxZ5pf",
        "colab_type": "code",
        "colab": {
          "autoexec": {
            "startup": false,
            "wait_interval": 0
          },
          "base_uri": "https://localhost:8080/",
          "height": 121
        },
        "outputId": "77fcda4f-2ccf-437f-8fc3-cd2194e94a94",
        "executionInfo": {
          "status": "ok",
          "timestamp": 1533578375851,
          "user_tz": 240,
          "elapsed": 39434,
          "user": {
            "displayName": "Paul Lee",
            "photoUrl": "https://lh3.googleusercontent.com/a/default-user=s128",
            "userId": "114787872793332384859"
          }
        }
      },
      "cell_type": "code",
      "source": [
        "loans.drop('id', axis=1, inplace=True) #every loan has unique id, categorical\n",
        "loans.drop('grade', axis=1, inplace=True) #grade is implied by subgrade\n",
        "loans.drop(labels='emp_title', axis=1, inplace=True) #too many different job titles\n",
        "\n",
        "loans['emp_length'].replace(to_replace='10+ years', value='10 years', inplace=True) #convert emp_length to integers\n",
        "loans['emp_length'].replace('< 1 year', '0 years', inplace=True)\n",
        "def emp_length_to_int(s):\n",
        "    if pd.isnull(s):\n",
        "        return s\n",
        "    else:\n",
        "        return np.int8(s.split()[0])\n",
        "loans['emp_length'] = loans['emp_length'].apply(emp_length_to_int)\n",
        "loans['emp_length'].value_counts(dropna=False).sort_index()\n",
        "\n",
        "loans['home_ownership'].replace(['NONE', 'ANY'], 'OTHER', inplace=True) #replace values ANY and NONE with OTHER\n",
        "\n",
        "loans['log_annual_inc'] = loans['annual_inc'].apply(lambda x: np.log10(x+1)) #take to log of incomes due to large range, drop annual_inc\n",
        "loans.drop('annual_inc', axis=1, inplace=True)\n",
        "\n",
        "loans.drop('title', axis=1, inplace=True) #too many titles\n",
        "loans.drop(labels='zip_code', axis=1, inplace=True) #too many zip codes\n",
        "loans['earliest_cr_line'] = loans['earliest_cr_line'].apply(lambda s: int(s[-4:])) #just retain the year for each loan\n",
        "\n",
        "loans['fico_score'] = 0.5*loans['fico_range_low'] + 0.5*loans['fico_range_high'] #just keep the average of both FICO scores (low and high)\n",
        "loans.drop(['fico_range_high', 'fico_range_low'], axis=1, inplace=True)\n",
        "\n",
        "loans['log_revol_bal'] = loans['revol_bal'].apply(lambda x: np.log10(x+1)) #log transform total credit revolving balance\n",
        "loans.drop('revol_bal', axis=1, inplace=True)\n",
        "\n",
        "loans['charged_off'] = (loans['loan_status'] == 'Charged Off').apply(np.uint8) #change loan_status to 0/1 variable\n",
        "loans.drop('loan_status', axis=1, inplace=True) \n",
        "\n",
        "#create dummy variables for categorical variables\n",
        "loans = pd.get_dummies(loans, columns=['sub_grade', 'home_ownership', 'verification_status', 'purpose', 'addr_state',\n",
        "                                       'initial_list_status', 'application_type'], drop_first=True)\n",
        "\n",
        "loans['issue_d'] = pd.to_datetime(loans['issue_d']) #convert issue dates to datetime objects)\n",
        "loans['term'] = loans['term'].apply(lambda x: x[1:3]) #rmove 'months' so column becomes numerical\n",
        "loans['term'].sample(5)\n"
      ],
      "execution_count": 7,
      "outputs": [
        {
          "output_type": "execute_result",
          "data": {
            "text/plain": [
              "1107016    36\n",
              "576177     36\n",
              "885062     36\n",
              "264408     60\n",
              "188786     36\n",
              "Name: term, dtype: object"
            ]
          },
          "metadata": {
            "tags": []
          },
          "execution_count": 7
        }
      ]
    },
    {
      "metadata": {
        "id": "_TaDjg-hZ811",
        "colab_type": "text"
      },
      "cell_type": "markdown",
      "source": [
        "Now we partition the test set rom the most recent 10% of loans."
      ]
    },
    {
      "metadata": {
        "id": "3_xoVSvsZ-kj",
        "colab_type": "code",
        "colab": {
          "autoexec": {
            "startup": false,
            "wait_interval": 0
          },
          "base_uri": "https://localhost:8080/",
          "height": 191
        },
        "outputId": "d2e4b9c6-5915-442c-e022-2acbd88082a9",
        "executionInfo": {
          "status": "ok",
          "timestamp": 1533579158506,
          "user_tz": 240,
          "elapsed": 1024,
          "user": {
            "displayName": "Paul Lee",
            "photoUrl": "https://lh3.googleusercontent.com/a/default-user=s128",
            "userId": "114787872793332384859"
          }
        }
      },
      "cell_type": "code",
      "source": [
        "loans_train = loans.loc[loans['issue_d'] <  loans['issue_d'].quantile(0.9)]\n",
        "loans_test =  loans.loc[loans['issue_d'] >= loans['issue_d'].quantile(0.9)]\n",
        "#del loans\n",
        "\n",
        "loans_train.drop('issue_d', axis=1, inplace=True)\n",
        "loans_test.drop('issue_d', axis=1, inplace=True)\n",
        "\n",
        "y_train = loans_train['charged_off']\n",
        "y_test = loans_test['charged_off']\n",
        "x_train = loans_train.drop('charged_off', axis=1)\n",
        "x_test = loans_test.drop('charged_off', axis=1)\n",
        "\n",
        "#del loans_train, loans_test"
      ],
      "execution_count": 8,
      "outputs": [
        {
          "output_type": "stream",
          "text": [
            "/usr/local/lib/python3.6/dist-packages/ipykernel_launcher.py:5: SettingWithCopyWarning: \n",
            "A value is trying to be set on a copy of a slice from a DataFrame\n",
            "\n",
            "See the caveats in the documentation: http://pandas.pydata.org/pandas-docs/stable/indexing.html#indexing-view-versus-copy\n",
            "  \"\"\"\n",
            "/usr/local/lib/python3.6/dist-packages/ipykernel_launcher.py:6: SettingWithCopyWarning: \n",
            "A value is trying to be set on a copy of a slice from a DataFrame\n",
            "\n",
            "See the caveats in the documentation: http://pandas.pydata.org/pandas-docs/stable/indexing.html#indexing-view-versus-copy\n",
            "  \n"
          ],
          "name": "stderr"
        }
      ]
    },
    {
      "metadata": {
        "id": "Nc_YSoqGcPP6",
        "colab_type": "code",
        "colab": {
          "autoexec": {
            "startup": false,
            "wait_interval": 0
          }
        }
      },
      "cell_type": "code",
      "source": [
        "#loans_train.to_csv('loans_train.gz', compression='gzip')\n",
        "#loans_test.to_csv('loans_test.gz', compression='gzip')"
      ],
      "execution_count": 0,
      "outputs": []
    },
    {
      "metadata": {
        "id": "-wB-6BCAdqNd",
        "colab_type": "code",
        "colab": {
          "autoexec": {
            "startup": false,
            "wait_interval": 0
          }
        }
      },
      "cell_type": "code",
      "source": [
        "files.download('loans_train.csv')\n",
        "files.download('loans_test.csv')"
      ],
      "execution_count": 0,
      "outputs": []
    },
    {
      "metadata": {
        "id": "MujtN1geyRI7",
        "colab_type": "code",
        "colab": {
          "autoexec": {
            "startup": false,
            "wait_interval": 0
          },
          "base_uri": "https://localhost:8080/",
          "height": 244
        },
        "outputId": "d0857238-83d1-45f1-df31-3ea756cd9685",
        "executionInfo": {
          "status": "ok",
          "timestamp": 1533233335675,
          "user_tz": 240,
          "elapsed": 419,
          "user": {
            "displayName": "Paul Lee",
            "photoUrl": "https://lh3.googleusercontent.com/a/default-user=s128",
            "userId": "114787872793332384859"
          }
        }
      },
      "cell_type": "code",
      "source": [
        "x_train.sample(5)"
      ],
      "execution_count": 18,
      "outputs": [
        {
          "output_type": "execute_result",
          "data": {
            "text/html": [
              "<div>\n",
              "<style scoped>\n",
              "    .dataframe tbody tr th:only-of-type {\n",
              "        vertical-align: middle;\n",
              "    }\n",
              "\n",
              "    .dataframe tbody tr th {\n",
              "        vertical-align: top;\n",
              "    }\n",
              "\n",
              "    .dataframe thead th {\n",
              "        text-align: right;\n",
              "    }\n",
              "</style>\n",
              "<table border=\"1\" class=\"dataframe\">\n",
              "  <thead>\n",
              "    <tr style=\"text-align: right;\">\n",
              "      <th></th>\n",
              "      <th>loan_amnt</th>\n",
              "      <th>term</th>\n",
              "      <th>int_rate</th>\n",
              "      <th>installment</th>\n",
              "      <th>emp_length</th>\n",
              "      <th>dti</th>\n",
              "      <th>earliest_cr_line</th>\n",
              "      <th>open_acc</th>\n",
              "      <th>pub_rec</th>\n",
              "      <th>revol_util</th>\n",
              "      <th>total_acc</th>\n",
              "      <th>mort_acc</th>\n",
              "      <th>pub_rec_bankruptcies</th>\n",
              "      <th>log_annual_inc</th>\n",
              "      <th>fico_score</th>\n",
              "      <th>log_revol_bal</th>\n",
              "      <th>sub_grade_A2</th>\n",
              "      <th>sub_grade_A3</th>\n",
              "      <th>sub_grade_A4</th>\n",
              "      <th>sub_grade_A5</th>\n",
              "      <th>sub_grade_B1</th>\n",
              "      <th>sub_grade_B2</th>\n",
              "      <th>sub_grade_B3</th>\n",
              "      <th>sub_grade_B4</th>\n",
              "      <th>sub_grade_B5</th>\n",
              "      <th>sub_grade_C1</th>\n",
              "      <th>sub_grade_C2</th>\n",
              "      <th>sub_grade_C3</th>\n",
              "      <th>sub_grade_C4</th>\n",
              "      <th>sub_grade_C5</th>\n",
              "      <th>sub_grade_D1</th>\n",
              "      <th>sub_grade_D2</th>\n",
              "      <th>sub_grade_D3</th>\n",
              "      <th>sub_grade_D4</th>\n",
              "      <th>sub_grade_D5</th>\n",
              "      <th>sub_grade_E1</th>\n",
              "      <th>sub_grade_E2</th>\n",
              "      <th>sub_grade_E3</th>\n",
              "      <th>sub_grade_E4</th>\n",
              "      <th>sub_grade_E5</th>\n",
              "      <th>sub_grade_F1</th>\n",
              "      <th>sub_grade_F2</th>\n",
              "      <th>sub_grade_F3</th>\n",
              "      <th>sub_grade_F4</th>\n",
              "      <th>sub_grade_F5</th>\n",
              "      <th>sub_grade_G1</th>\n",
              "      <th>sub_grade_G2</th>\n",
              "      <th>sub_grade_G3</th>\n",
              "      <th>sub_grade_G4</th>\n",
              "      <th>sub_grade_G5</th>\n",
              "      <th>home_ownership_OTHER</th>\n",
              "      <th>home_ownership_OWN</th>\n",
              "      <th>home_ownership_RENT</th>\n",
              "      <th>verification_status_Source Verified</th>\n",
              "      <th>verification_status_Verified</th>\n",
              "      <th>purpose_credit_card</th>\n",
              "      <th>purpose_debt_consolidation</th>\n",
              "      <th>purpose_educational</th>\n",
              "      <th>purpose_home_improvement</th>\n",
              "      <th>purpose_house</th>\n",
              "      <th>purpose_major_purchase</th>\n",
              "      <th>purpose_medical</th>\n",
              "      <th>purpose_moving</th>\n",
              "      <th>purpose_other</th>\n",
              "      <th>purpose_renewable_energy</th>\n",
              "      <th>purpose_small_business</th>\n",
              "      <th>purpose_vacation</th>\n",
              "      <th>purpose_wedding</th>\n",
              "      <th>addr_state_AL</th>\n",
              "      <th>addr_state_AR</th>\n",
              "      <th>addr_state_AZ</th>\n",
              "      <th>addr_state_CA</th>\n",
              "      <th>addr_state_CO</th>\n",
              "      <th>addr_state_CT</th>\n",
              "      <th>addr_state_DC</th>\n",
              "      <th>addr_state_DE</th>\n",
              "      <th>addr_state_FL</th>\n",
              "      <th>addr_state_GA</th>\n",
              "      <th>addr_state_HI</th>\n",
              "      <th>addr_state_IA</th>\n",
              "      <th>addr_state_ID</th>\n",
              "      <th>addr_state_IL</th>\n",
              "      <th>addr_state_IN</th>\n",
              "      <th>addr_state_KS</th>\n",
              "      <th>addr_state_KY</th>\n",
              "      <th>addr_state_LA</th>\n",
              "      <th>addr_state_MA</th>\n",
              "      <th>addr_state_MD</th>\n",
              "      <th>addr_state_ME</th>\n",
              "      <th>addr_state_MI</th>\n",
              "      <th>addr_state_MN</th>\n",
              "      <th>addr_state_MO</th>\n",
              "      <th>addr_state_MS</th>\n",
              "      <th>addr_state_MT</th>\n",
              "      <th>addr_state_NC</th>\n",
              "      <th>addr_state_ND</th>\n",
              "      <th>addr_state_NE</th>\n",
              "      <th>addr_state_NH</th>\n",
              "      <th>addr_state_NJ</th>\n",
              "      <th>addr_state_NM</th>\n",
              "      <th>addr_state_NV</th>\n",
              "      <th>addr_state_NY</th>\n",
              "      <th>addr_state_OH</th>\n",
              "      <th>addr_state_OK</th>\n",
              "      <th>addr_state_OR</th>\n",
              "      <th>addr_state_PA</th>\n",
              "      <th>addr_state_RI</th>\n",
              "      <th>addr_state_SC</th>\n",
              "      <th>addr_state_SD</th>\n",
              "      <th>addr_state_TN</th>\n",
              "      <th>addr_state_TX</th>\n",
              "      <th>addr_state_UT</th>\n",
              "      <th>addr_state_VA</th>\n",
              "      <th>addr_state_VT</th>\n",
              "      <th>addr_state_WA</th>\n",
              "      <th>addr_state_WI</th>\n",
              "      <th>addr_state_WV</th>\n",
              "      <th>addr_state_WY</th>\n",
              "      <th>initial_list_status_w</th>\n",
              "      <th>application_type_Joint App</th>\n",
              "    </tr>\n",
              "  </thead>\n",
              "  <tbody>\n",
              "    <tr>\n",
              "      <th>441496</th>\n",
              "      <td>2400.0</td>\n",
              "      <td>36</td>\n",
              "      <td>15.61</td>\n",
              "      <td>83.92</td>\n",
              "      <td>1.0</td>\n",
              "      <td>18.07</td>\n",
              "      <td>2004</td>\n",
              "      <td>12.0</td>\n",
              "      <td>0.0</td>\n",
              "      <td>4.3</td>\n",
              "      <td>28.0</td>\n",
              "      <td>0.0</td>\n",
              "      <td>0.0</td>\n",
              "      <td>4.544080</td>\n",
              "      <td>672.0</td>\n",
              "      <td>2.695482</td>\n",
              "      <td>0</td>\n",
              "      <td>0</td>\n",
              "      <td>0</td>\n",
              "      <td>0</td>\n",
              "      <td>0</td>\n",
              "      <td>0</td>\n",
              "      <td>0</td>\n",
              "      <td>0</td>\n",
              "      <td>0</td>\n",
              "      <td>0</td>\n",
              "      <td>0</td>\n",
              "      <td>0</td>\n",
              "      <td>0</td>\n",
              "      <td>0</td>\n",
              "      <td>1</td>\n",
              "      <td>0</td>\n",
              "      <td>0</td>\n",
              "      <td>0</td>\n",
              "      <td>0</td>\n",
              "      <td>0</td>\n",
              "      <td>0</td>\n",
              "      <td>0</td>\n",
              "      <td>0</td>\n",
              "      <td>0</td>\n",
              "      <td>0</td>\n",
              "      <td>0</td>\n",
              "      <td>0</td>\n",
              "      <td>0</td>\n",
              "      <td>0</td>\n",
              "      <td>0</td>\n",
              "      <td>0</td>\n",
              "      <td>0</td>\n",
              "      <td>0</td>\n",
              "      <td>0</td>\n",
              "      <td>0</td>\n",
              "      <td>0</td>\n",
              "      <td>1</td>\n",
              "      <td>0</td>\n",
              "      <td>1</td>\n",
              "      <td>0</td>\n",
              "      <td>1</td>\n",
              "      <td>0</td>\n",
              "      <td>0</td>\n",
              "      <td>0</td>\n",
              "      <td>0</td>\n",
              "      <td>0</td>\n",
              "      <td>0</td>\n",
              "      <td>0</td>\n",
              "      <td>0</td>\n",
              "      <td>0</td>\n",
              "      <td>0</td>\n",
              "      <td>0</td>\n",
              "      <td>0</td>\n",
              "      <td>0</td>\n",
              "      <td>0</td>\n",
              "      <td>0</td>\n",
              "      <td>0</td>\n",
              "      <td>0</td>\n",
              "      <td>0</td>\n",
              "      <td>0</td>\n",
              "      <td>0</td>\n",
              "      <td>0</td>\n",
              "      <td>0</td>\n",
              "      <td>0</td>\n",
              "      <td>0</td>\n",
              "      <td>0</td>\n",
              "      <td>0</td>\n",
              "      <td>0</td>\n",
              "      <td>0</td>\n",
              "      <td>0</td>\n",
              "      <td>0</td>\n",
              "      <td>0</td>\n",
              "      <td>0</td>\n",
              "      <td>0</td>\n",
              "      <td>0</td>\n",
              "      <td>0</td>\n",
              "      <td>0</td>\n",
              "      <td>0</td>\n",
              "      <td>0</td>\n",
              "      <td>0</td>\n",
              "      <td>0</td>\n",
              "      <td>0</td>\n",
              "      <td>0</td>\n",
              "      <td>0</td>\n",
              "      <td>0</td>\n",
              "      <td>1</td>\n",
              "      <td>0</td>\n",
              "      <td>0</td>\n",
              "      <td>0</td>\n",
              "      <td>0</td>\n",
              "      <td>0</td>\n",
              "      <td>0</td>\n",
              "      <td>0</td>\n",
              "      <td>0</td>\n",
              "      <td>0</td>\n",
              "      <td>0</td>\n",
              "      <td>0</td>\n",
              "      <td>0</td>\n",
              "      <td>0</td>\n",
              "      <td>0</td>\n",
              "      <td>0</td>\n",
              "      <td>0</td>\n",
              "      <td>0</td>\n",
              "      <td>0</td>\n",
              "    </tr>\n",
              "    <tr>\n",
              "      <th>523507</th>\n",
              "      <td>6025.0</td>\n",
              "      <td>36</td>\n",
              "      <td>13.33</td>\n",
              "      <td>203.97</td>\n",
              "      <td>3.0</td>\n",
              "      <td>12.82</td>\n",
              "      <td>2007</td>\n",
              "      <td>8.0</td>\n",
              "      <td>0.0</td>\n",
              "      <td>36.8</td>\n",
              "      <td>32.0</td>\n",
              "      <td>0.0</td>\n",
              "      <td>0.0</td>\n",
              "      <td>4.730306</td>\n",
              "      <td>662.0</td>\n",
              "      <td>3.602928</td>\n",
              "      <td>0</td>\n",
              "      <td>0</td>\n",
              "      <td>0</td>\n",
              "      <td>0</td>\n",
              "      <td>0</td>\n",
              "      <td>0</td>\n",
              "      <td>0</td>\n",
              "      <td>0</td>\n",
              "      <td>0</td>\n",
              "      <td>0</td>\n",
              "      <td>0</td>\n",
              "      <td>1</td>\n",
              "      <td>0</td>\n",
              "      <td>0</td>\n",
              "      <td>0</td>\n",
              "      <td>0</td>\n",
              "      <td>0</td>\n",
              "      <td>0</td>\n",
              "      <td>0</td>\n",
              "      <td>0</td>\n",
              "      <td>0</td>\n",
              "      <td>0</td>\n",
              "      <td>0</td>\n",
              "      <td>0</td>\n",
              "      <td>0</td>\n",
              "      <td>0</td>\n",
              "      <td>0</td>\n",
              "      <td>0</td>\n",
              "      <td>0</td>\n",
              "      <td>0</td>\n",
              "      <td>0</td>\n",
              "      <td>0</td>\n",
              "      <td>0</td>\n",
              "      <td>0</td>\n",
              "      <td>0</td>\n",
              "      <td>0</td>\n",
              "      <td>1</td>\n",
              "      <td>1</td>\n",
              "      <td>0</td>\n",
              "      <td>0</td>\n",
              "      <td>1</td>\n",
              "      <td>0</td>\n",
              "      <td>0</td>\n",
              "      <td>0</td>\n",
              "      <td>0</td>\n",
              "      <td>0</td>\n",
              "      <td>0</td>\n",
              "      <td>0</td>\n",
              "      <td>0</td>\n",
              "      <td>0</td>\n",
              "      <td>0</td>\n",
              "      <td>0</td>\n",
              "      <td>0</td>\n",
              "      <td>0</td>\n",
              "      <td>0</td>\n",
              "      <td>0</td>\n",
              "      <td>0</td>\n",
              "      <td>0</td>\n",
              "      <td>0</td>\n",
              "      <td>0</td>\n",
              "      <td>0</td>\n",
              "      <td>0</td>\n",
              "      <td>0</td>\n",
              "      <td>0</td>\n",
              "      <td>0</td>\n",
              "      <td>0</td>\n",
              "      <td>0</td>\n",
              "      <td>0</td>\n",
              "      <td>0</td>\n",
              "      <td>0</td>\n",
              "      <td>1</td>\n",
              "      <td>0</td>\n",
              "      <td>0</td>\n",
              "      <td>0</td>\n",
              "      <td>0</td>\n",
              "      <td>0</td>\n",
              "      <td>0</td>\n",
              "      <td>0</td>\n",
              "      <td>0</td>\n",
              "      <td>0</td>\n",
              "      <td>0</td>\n",
              "      <td>0</td>\n",
              "      <td>0</td>\n",
              "      <td>0</td>\n",
              "      <td>0</td>\n",
              "      <td>0</td>\n",
              "      <td>0</td>\n",
              "      <td>0</td>\n",
              "      <td>0</td>\n",
              "      <td>0</td>\n",
              "      <td>0</td>\n",
              "      <td>0</td>\n",
              "      <td>0</td>\n",
              "      <td>0</td>\n",
              "      <td>0</td>\n",
              "      <td>0</td>\n",
              "      <td>0</td>\n",
              "      <td>0</td>\n",
              "      <td>0</td>\n",
              "      <td>0</td>\n",
              "      <td>0</td>\n",
              "      <td>0</td>\n",
              "      <td>0</td>\n",
              "      <td>0</td>\n",
              "    </tr>\n",
              "    <tr>\n",
              "      <th>889312</th>\n",
              "      <td>8000.0</td>\n",
              "      <td>36</td>\n",
              "      <td>17.77</td>\n",
              "      <td>288.30</td>\n",
              "      <td>3.0</td>\n",
              "      <td>18.50</td>\n",
              "      <td>2002</td>\n",
              "      <td>7.0</td>\n",
              "      <td>0.0</td>\n",
              "      <td>45.5</td>\n",
              "      <td>11.0</td>\n",
              "      <td>0.0</td>\n",
              "      <td>0.0</td>\n",
              "      <td>4.452568</td>\n",
              "      <td>692.0</td>\n",
              "      <td>3.755341</td>\n",
              "      <td>0</td>\n",
              "      <td>0</td>\n",
              "      <td>0</td>\n",
              "      <td>0</td>\n",
              "      <td>0</td>\n",
              "      <td>0</td>\n",
              "      <td>0</td>\n",
              "      <td>0</td>\n",
              "      <td>0</td>\n",
              "      <td>0</td>\n",
              "      <td>0</td>\n",
              "      <td>0</td>\n",
              "      <td>0</td>\n",
              "      <td>0</td>\n",
              "      <td>1</td>\n",
              "      <td>0</td>\n",
              "      <td>0</td>\n",
              "      <td>0</td>\n",
              "      <td>0</td>\n",
              "      <td>0</td>\n",
              "      <td>0</td>\n",
              "      <td>0</td>\n",
              "      <td>0</td>\n",
              "      <td>0</td>\n",
              "      <td>0</td>\n",
              "      <td>0</td>\n",
              "      <td>0</td>\n",
              "      <td>0</td>\n",
              "      <td>0</td>\n",
              "      <td>0</td>\n",
              "      <td>0</td>\n",
              "      <td>0</td>\n",
              "      <td>0</td>\n",
              "      <td>0</td>\n",
              "      <td>0</td>\n",
              "      <td>0</td>\n",
              "      <td>1</td>\n",
              "      <td>0</td>\n",
              "      <td>0</td>\n",
              "      <td>0</td>\n",
              "      <td>0</td>\n",
              "      <td>0</td>\n",
              "      <td>0</td>\n",
              "      <td>0</td>\n",
              "      <td>0</td>\n",
              "      <td>0</td>\n",
              "      <td>0</td>\n",
              "      <td>1</td>\n",
              "      <td>0</td>\n",
              "      <td>0</td>\n",
              "      <td>0</td>\n",
              "      <td>0</td>\n",
              "      <td>0</td>\n",
              "      <td>0</td>\n",
              "      <td>0</td>\n",
              "      <td>0</td>\n",
              "      <td>0</td>\n",
              "      <td>0</td>\n",
              "      <td>0</td>\n",
              "      <td>0</td>\n",
              "      <td>1</td>\n",
              "      <td>0</td>\n",
              "      <td>0</td>\n",
              "      <td>0</td>\n",
              "      <td>0</td>\n",
              "      <td>0</td>\n",
              "      <td>0</td>\n",
              "      <td>0</td>\n",
              "      <td>0</td>\n",
              "      <td>0</td>\n",
              "      <td>0</td>\n",
              "      <td>0</td>\n",
              "      <td>0</td>\n",
              "      <td>0</td>\n",
              "      <td>0</td>\n",
              "      <td>0</td>\n",
              "      <td>0</td>\n",
              "      <td>0</td>\n",
              "      <td>0</td>\n",
              "      <td>0</td>\n",
              "      <td>0</td>\n",
              "      <td>0</td>\n",
              "      <td>0</td>\n",
              "      <td>0</td>\n",
              "      <td>0</td>\n",
              "      <td>0</td>\n",
              "      <td>0</td>\n",
              "      <td>0</td>\n",
              "      <td>0</td>\n",
              "      <td>0</td>\n",
              "      <td>0</td>\n",
              "      <td>0</td>\n",
              "      <td>0</td>\n",
              "      <td>0</td>\n",
              "      <td>0</td>\n",
              "      <td>0</td>\n",
              "      <td>0</td>\n",
              "      <td>0</td>\n",
              "      <td>0</td>\n",
              "      <td>0</td>\n",
              "      <td>0</td>\n",
              "      <td>0</td>\n",
              "      <td>0</td>\n",
              "      <td>0</td>\n",
              "    </tr>\n",
              "    <tr>\n",
              "      <th>927007</th>\n",
              "      <td>12000.0</td>\n",
              "      <td>36</td>\n",
              "      <td>15.31</td>\n",
              "      <td>417.81</td>\n",
              "      <td>2.0</td>\n",
              "      <td>24.47</td>\n",
              "      <td>1994</td>\n",
              "      <td>22.0</td>\n",
              "      <td>0.0</td>\n",
              "      <td>96.2</td>\n",
              "      <td>45.0</td>\n",
              "      <td>3.0</td>\n",
              "      <td>0.0</td>\n",
              "      <td>4.963793</td>\n",
              "      <td>672.0</td>\n",
              "      <td>4.307646</td>\n",
              "      <td>0</td>\n",
              "      <td>0</td>\n",
              "      <td>0</td>\n",
              "      <td>0</td>\n",
              "      <td>0</td>\n",
              "      <td>0</td>\n",
              "      <td>0</td>\n",
              "      <td>0</td>\n",
              "      <td>0</td>\n",
              "      <td>0</td>\n",
              "      <td>1</td>\n",
              "      <td>0</td>\n",
              "      <td>0</td>\n",
              "      <td>0</td>\n",
              "      <td>0</td>\n",
              "      <td>0</td>\n",
              "      <td>0</td>\n",
              "      <td>0</td>\n",
              "      <td>0</td>\n",
              "      <td>0</td>\n",
              "      <td>0</td>\n",
              "      <td>0</td>\n",
              "      <td>0</td>\n",
              "      <td>0</td>\n",
              "      <td>0</td>\n",
              "      <td>0</td>\n",
              "      <td>0</td>\n",
              "      <td>0</td>\n",
              "      <td>0</td>\n",
              "      <td>0</td>\n",
              "      <td>0</td>\n",
              "      <td>0</td>\n",
              "      <td>0</td>\n",
              "      <td>0</td>\n",
              "      <td>0</td>\n",
              "      <td>0</td>\n",
              "      <td>0</td>\n",
              "      <td>0</td>\n",
              "      <td>1</td>\n",
              "      <td>1</td>\n",
              "      <td>0</td>\n",
              "      <td>0</td>\n",
              "      <td>0</td>\n",
              "      <td>0</td>\n",
              "      <td>0</td>\n",
              "      <td>0</td>\n",
              "      <td>0</td>\n",
              "      <td>0</td>\n",
              "      <td>0</td>\n",
              "      <td>0</td>\n",
              "      <td>0</td>\n",
              "      <td>0</td>\n",
              "      <td>0</td>\n",
              "      <td>0</td>\n",
              "      <td>0</td>\n",
              "      <td>0</td>\n",
              "      <td>1</td>\n",
              "      <td>0</td>\n",
              "      <td>0</td>\n",
              "      <td>0</td>\n",
              "      <td>0</td>\n",
              "      <td>0</td>\n",
              "      <td>0</td>\n",
              "      <td>0</td>\n",
              "      <td>0</td>\n",
              "      <td>0</td>\n",
              "      <td>0</td>\n",
              "      <td>0</td>\n",
              "      <td>0</td>\n",
              "      <td>0</td>\n",
              "      <td>0</td>\n",
              "      <td>0</td>\n",
              "      <td>0</td>\n",
              "      <td>0</td>\n",
              "      <td>0</td>\n",
              "      <td>0</td>\n",
              "      <td>0</td>\n",
              "      <td>0</td>\n",
              "      <td>0</td>\n",
              "      <td>0</td>\n",
              "      <td>0</td>\n",
              "      <td>0</td>\n",
              "      <td>0</td>\n",
              "      <td>0</td>\n",
              "      <td>0</td>\n",
              "      <td>0</td>\n",
              "      <td>0</td>\n",
              "      <td>0</td>\n",
              "      <td>0</td>\n",
              "      <td>0</td>\n",
              "      <td>0</td>\n",
              "      <td>0</td>\n",
              "      <td>0</td>\n",
              "      <td>0</td>\n",
              "      <td>0</td>\n",
              "      <td>0</td>\n",
              "      <td>0</td>\n",
              "      <td>0</td>\n",
              "      <td>0</td>\n",
              "      <td>0</td>\n",
              "      <td>0</td>\n",
              "      <td>0</td>\n",
              "      <td>0</td>\n",
              "      <td>0</td>\n",
              "    </tr>\n",
              "    <tr>\n",
              "      <th>40160</th>\n",
              "      <td>25000.0</td>\n",
              "      <td>36</td>\n",
              "      <td>7.69</td>\n",
              "      <td>779.84</td>\n",
              "      <td>7.0</td>\n",
              "      <td>5.81</td>\n",
              "      <td>2004</td>\n",
              "      <td>7.0</td>\n",
              "      <td>0.0</td>\n",
              "      <td>16.0</td>\n",
              "      <td>15.0</td>\n",
              "      <td>0.0</td>\n",
              "      <td>0.0</td>\n",
              "      <td>4.977728</td>\n",
              "      <td>767.0</td>\n",
              "      <td>3.590619</td>\n",
              "      <td>0</td>\n",
              "      <td>0</td>\n",
              "      <td>1</td>\n",
              "      <td>0</td>\n",
              "      <td>0</td>\n",
              "      <td>0</td>\n",
              "      <td>0</td>\n",
              "      <td>0</td>\n",
              "      <td>0</td>\n",
              "      <td>0</td>\n",
              "      <td>0</td>\n",
              "      <td>0</td>\n",
              "      <td>0</td>\n",
              "      <td>0</td>\n",
              "      <td>0</td>\n",
              "      <td>0</td>\n",
              "      <td>0</td>\n",
              "      <td>0</td>\n",
              "      <td>0</td>\n",
              "      <td>0</td>\n",
              "      <td>0</td>\n",
              "      <td>0</td>\n",
              "      <td>0</td>\n",
              "      <td>0</td>\n",
              "      <td>0</td>\n",
              "      <td>0</td>\n",
              "      <td>0</td>\n",
              "      <td>0</td>\n",
              "      <td>0</td>\n",
              "      <td>0</td>\n",
              "      <td>0</td>\n",
              "      <td>0</td>\n",
              "      <td>0</td>\n",
              "      <td>0</td>\n",
              "      <td>0</td>\n",
              "      <td>1</td>\n",
              "      <td>0</td>\n",
              "      <td>0</td>\n",
              "      <td>1</td>\n",
              "      <td>0</td>\n",
              "      <td>0</td>\n",
              "      <td>0</td>\n",
              "      <td>1</td>\n",
              "      <td>0</td>\n",
              "      <td>0</td>\n",
              "      <td>0</td>\n",
              "      <td>0</td>\n",
              "      <td>0</td>\n",
              "      <td>0</td>\n",
              "      <td>0</td>\n",
              "      <td>0</td>\n",
              "      <td>0</td>\n",
              "      <td>0</td>\n",
              "      <td>0</td>\n",
              "      <td>0</td>\n",
              "      <td>0</td>\n",
              "      <td>0</td>\n",
              "      <td>0</td>\n",
              "      <td>0</td>\n",
              "      <td>0</td>\n",
              "      <td>0</td>\n",
              "      <td>0</td>\n",
              "      <td>0</td>\n",
              "      <td>0</td>\n",
              "      <td>0</td>\n",
              "      <td>0</td>\n",
              "      <td>0</td>\n",
              "      <td>0</td>\n",
              "      <td>0</td>\n",
              "      <td>0</td>\n",
              "      <td>0</td>\n",
              "      <td>0</td>\n",
              "      <td>0</td>\n",
              "      <td>0</td>\n",
              "      <td>0</td>\n",
              "      <td>0</td>\n",
              "      <td>0</td>\n",
              "      <td>0</td>\n",
              "      <td>0</td>\n",
              "      <td>0</td>\n",
              "      <td>0</td>\n",
              "      <td>0</td>\n",
              "      <td>0</td>\n",
              "      <td>0</td>\n",
              "      <td>0</td>\n",
              "      <td>1</td>\n",
              "      <td>0</td>\n",
              "      <td>0</td>\n",
              "      <td>0</td>\n",
              "      <td>0</td>\n",
              "      <td>0</td>\n",
              "      <td>0</td>\n",
              "      <td>0</td>\n",
              "      <td>0</td>\n",
              "      <td>0</td>\n",
              "      <td>0</td>\n",
              "      <td>0</td>\n",
              "      <td>0</td>\n",
              "      <td>0</td>\n",
              "      <td>0</td>\n",
              "      <td>0</td>\n",
              "      <td>0</td>\n",
              "      <td>1</td>\n",
              "      <td>0</td>\n",
              "    </tr>\n",
              "  </tbody>\n",
              "</table>\n",
              "</div>"
            ],
            "text/plain": [
              "        loan_amnt term  int_rate  installment  emp_length    dti  \\\n",
              "441496     2400.0   36     15.61        83.92         1.0  18.07   \n",
              "523507     6025.0   36     13.33       203.97         3.0  12.82   \n",
              "889312     8000.0   36     17.77       288.30         3.0  18.50   \n",
              "927007    12000.0   36     15.31       417.81         2.0  24.47   \n",
              "40160     25000.0   36      7.69       779.84         7.0   5.81   \n",
              "\n",
              "        earliest_cr_line  open_acc  pub_rec  revol_util  total_acc  mort_acc  \\\n",
              "441496              2004      12.0      0.0         4.3       28.0       0.0   \n",
              "523507              2007       8.0      0.0        36.8       32.0       0.0   \n",
              "889312              2002       7.0      0.0        45.5       11.0       0.0   \n",
              "927007              1994      22.0      0.0        96.2       45.0       3.0   \n",
              "40160               2004       7.0      0.0        16.0       15.0       0.0   \n",
              "\n",
              "        pub_rec_bankruptcies  log_annual_inc  fico_score  log_revol_bal  \\\n",
              "441496                   0.0        4.544080       672.0       2.695482   \n",
              "523507                   0.0        4.730306       662.0       3.602928   \n",
              "889312                   0.0        4.452568       692.0       3.755341   \n",
              "927007                   0.0        4.963793       672.0       4.307646   \n",
              "40160                    0.0        4.977728       767.0       3.590619   \n",
              "\n",
              "        sub_grade_A2  sub_grade_A3  sub_grade_A4  sub_grade_A5  sub_grade_B1  \\\n",
              "441496             0             0             0             0             0   \n",
              "523507             0             0             0             0             0   \n",
              "889312             0             0             0             0             0   \n",
              "927007             0             0             0             0             0   \n",
              "40160              0             0             1             0             0   \n",
              "\n",
              "        sub_grade_B2  sub_grade_B3  sub_grade_B4  sub_grade_B5  sub_grade_C1  \\\n",
              "441496             0             0             0             0             0   \n",
              "523507             0             0             0             0             0   \n",
              "889312             0             0             0             0             0   \n",
              "927007             0             0             0             0             0   \n",
              "40160              0             0             0             0             0   \n",
              "\n",
              "        sub_grade_C2  sub_grade_C3  sub_grade_C4  sub_grade_C5  sub_grade_D1  \\\n",
              "441496             0             0             0             0             1   \n",
              "523507             0             1             0             0             0   \n",
              "889312             0             0             0             0             1   \n",
              "927007             1             0             0             0             0   \n",
              "40160              0             0             0             0             0   \n",
              "\n",
              "        sub_grade_D2  sub_grade_D3  sub_grade_D4  sub_grade_D5  sub_grade_E1  \\\n",
              "441496             0             0             0             0             0   \n",
              "523507             0             0             0             0             0   \n",
              "889312             0             0             0             0             0   \n",
              "927007             0             0             0             0             0   \n",
              "40160              0             0             0             0             0   \n",
              "\n",
              "        sub_grade_E2  sub_grade_E3  sub_grade_E4  sub_grade_E5  sub_grade_F1  \\\n",
              "441496             0             0             0             0             0   \n",
              "523507             0             0             0             0             0   \n",
              "889312             0             0             0             0             0   \n",
              "927007             0             0             0             0             0   \n",
              "40160              0             0             0             0             0   \n",
              "\n",
              "        sub_grade_F2  sub_grade_F3  sub_grade_F4  sub_grade_F5  sub_grade_G1  \\\n",
              "441496             0             0             0             0             0   \n",
              "523507             0             0             0             0             0   \n",
              "889312             0             0             0             0             0   \n",
              "927007             0             0             0             0             0   \n",
              "40160              0             0             0             0             0   \n",
              "\n",
              "        sub_grade_G2  sub_grade_G3  sub_grade_G4  sub_grade_G5  \\\n",
              "441496             0             0             0             0   \n",
              "523507             0             0             0             0   \n",
              "889312             0             0             0             0   \n",
              "927007             0             0             0             0   \n",
              "40160              0             0             0             0   \n",
              "\n",
              "        home_ownership_OTHER  home_ownership_OWN  home_ownership_RENT  \\\n",
              "441496                     0                   0                    1   \n",
              "523507                     0                   0                    1   \n",
              "889312                     0                   0                    1   \n",
              "927007                     0                   0                    0   \n",
              "40160                      0                   1                    0   \n",
              "\n",
              "        verification_status_Source Verified  verification_status_Verified  \\\n",
              "441496                                    0                             1   \n",
              "523507                                    1                             0   \n",
              "889312                                    0                             0   \n",
              "927007                                    0                             1   \n",
              "40160                                     0                             1   \n",
              "\n",
              "        purpose_credit_card  purpose_debt_consolidation  purpose_educational  \\\n",
              "441496                    0                           1                    0   \n",
              "523507                    0                           1                    0   \n",
              "889312                    0                           0                    0   \n",
              "927007                    1                           0                    0   \n",
              "40160                     0                           0                    0   \n",
              "\n",
              "        purpose_home_improvement  purpose_house  purpose_major_purchase  \\\n",
              "441496                         0              0                       0   \n",
              "523507                         0              0                       0   \n",
              "889312                         0              0                       0   \n",
              "927007                         0              0                       0   \n",
              "40160                          1              0                       0   \n",
              "\n",
              "        purpose_medical  purpose_moving  purpose_other  \\\n",
              "441496                0               0              0   \n",
              "523507                0               0              0   \n",
              "889312                0               0              1   \n",
              "927007                0               0              0   \n",
              "40160                 0               0              0   \n",
              "\n",
              "        purpose_renewable_energy  purpose_small_business  purpose_vacation  \\\n",
              "441496                         0                       0                 0   \n",
              "523507                         0                       0                 0   \n",
              "889312                         0                       0                 0   \n",
              "927007                         0                       0                 0   \n",
              "40160                          0                       0                 0   \n",
              "\n",
              "        purpose_wedding  addr_state_AL  addr_state_AR  addr_state_AZ  \\\n",
              "441496                0              0              0              0   \n",
              "523507                0              0              0              0   \n",
              "889312                0              0              0              0   \n",
              "927007                0              0              0              0   \n",
              "40160                 0              0              0              0   \n",
              "\n",
              "        addr_state_CA  addr_state_CO  addr_state_CT  addr_state_DC  \\\n",
              "441496              0              0              0              0   \n",
              "523507              0              0              0              0   \n",
              "889312              0              0              0              0   \n",
              "927007              0              1              0              0   \n",
              "40160               0              0              0              0   \n",
              "\n",
              "        addr_state_DE  addr_state_FL  addr_state_GA  addr_state_HI  \\\n",
              "441496              0              0              0              0   \n",
              "523507              0              0              0              0   \n",
              "889312              0              1              0              0   \n",
              "927007              0              0              0              0   \n",
              "40160               0              0              0              0   \n",
              "\n",
              "        addr_state_IA  addr_state_ID  addr_state_IL  addr_state_IN  \\\n",
              "441496              0              0              0              0   \n",
              "523507              0              0              0              0   \n",
              "889312              0              0              0              0   \n",
              "927007              0              0              0              0   \n",
              "40160               0              0              0              0   \n",
              "\n",
              "        addr_state_KS  addr_state_KY  addr_state_LA  addr_state_MA  \\\n",
              "441496              0              0              0              0   \n",
              "523507              0              0              0              1   \n",
              "889312              0              0              0              0   \n",
              "927007              0              0              0              0   \n",
              "40160               0              0              0              0   \n",
              "\n",
              "        addr_state_MD  addr_state_ME  addr_state_MI  addr_state_MN  \\\n",
              "441496              0              0              0              0   \n",
              "523507              0              0              0              0   \n",
              "889312              0              0              0              0   \n",
              "927007              0              0              0              0   \n",
              "40160               0              0              0              0   \n",
              "\n",
              "        addr_state_MO  addr_state_MS  addr_state_MT  addr_state_NC  \\\n",
              "441496              0              0              0              0   \n",
              "523507              0              0              0              0   \n",
              "889312              0              0              0              0   \n",
              "927007              0              0              0              0   \n",
              "40160               0              0              0              0   \n",
              "\n",
              "        addr_state_ND  addr_state_NE  addr_state_NH  addr_state_NJ  \\\n",
              "441496              0              0              0              0   \n",
              "523507              0              0              0              0   \n",
              "889312              0              0              0              0   \n",
              "927007              0              0              0              0   \n",
              "40160               0              0              0              0   \n",
              "\n",
              "        addr_state_NM  addr_state_NV  addr_state_NY  addr_state_OH  \\\n",
              "441496              0              0              1              0   \n",
              "523507              0              0              0              0   \n",
              "889312              0              0              0              0   \n",
              "927007              0              0              0              0   \n",
              "40160               0              0              1              0   \n",
              "\n",
              "        addr_state_OK  addr_state_OR  addr_state_PA  addr_state_RI  \\\n",
              "441496              0              0              0              0   \n",
              "523507              0              0              0              0   \n",
              "889312              0              0              0              0   \n",
              "927007              0              0              0              0   \n",
              "40160               0              0              0              0   \n",
              "\n",
              "        addr_state_SC  addr_state_SD  addr_state_TN  addr_state_TX  \\\n",
              "441496              0              0              0              0   \n",
              "523507              0              0              0              0   \n",
              "889312              0              0              0              0   \n",
              "927007              0              0              0              0   \n",
              "40160               0              0              0              0   \n",
              "\n",
              "        addr_state_UT  addr_state_VA  addr_state_VT  addr_state_WA  \\\n",
              "441496              0              0              0              0   \n",
              "523507              0              0              0              0   \n",
              "889312              0              0              0              0   \n",
              "927007              0              0              0              0   \n",
              "40160               0              0              0              0   \n",
              "\n",
              "        addr_state_WI  addr_state_WV  addr_state_WY  initial_list_status_w  \\\n",
              "441496              0              0              0                      0   \n",
              "523507              0              0              0                      0   \n",
              "889312              0              0              0                      0   \n",
              "927007              0              0              0                      0   \n",
              "40160               0              0              0                      1   \n",
              "\n",
              "        application_type_Joint App  \n",
              "441496                           0  \n",
              "523507                           0  \n",
              "889312                           0  \n",
              "927007                           0  \n",
              "40160                            0  "
            ]
          },
          "metadata": {
            "tags": []
          },
          "execution_count": 18
        }
      ]
    },
    {
      "metadata": {
        "id": "kGbQdnptaAPF",
        "colab_type": "text"
      },
      "cell_type": "markdown",
      "source": [
        "# **5. Model Testing and Training**\n",
        "### *5.1 Logistic Regression with SGD Training*"
      ]
    },
    {
      "metadata": {
        "id": "mFphDyBUaCFm",
        "colab_type": "code",
        "colab": {
          "autoexec": {
            "startup": false,
            "wait_interval": 0
          },
          "base_uri": "https://localhost:8080/",
          "height": 1305
        },
        "outputId": "23b60246-6fd0-4023-c286-428d040ec4e9",
        "executionInfo": {
          "status": "ok",
          "timestamp": 1533132345716,
          "user_tz": 240,
          "elapsed": 689118,
          "user": {
            "displayName": "Paul Lee",
            "photoUrl": "https://lh3.googleusercontent.com/a/default-user=s128",
            "userId": "114787872793332384859"
          }
        }
      },
      "cell_type": "code",
      "source": [
        "import sklearn\n",
        "from sklearn.pipeline import Pipeline\n",
        "from sklearn.preprocessing import StandardScaler\n",
        "from sklearn.preprocessing import Imputer \n",
        "from sklearn.discriminant_analysis import LinearDiscriminantAnalysis\n",
        "from sklearn.model_selection import GridSearchCV\n",
        "from sklearn.linear_model import SGDClassifier\n",
        "\n",
        "pipeline_sgdlogreg = Pipeline([\n",
        "    ('imputer', Imputer(copy=False)), # Mean imputation by default\n",
        "    ('scaler', StandardScaler(copy=False)),\n",
        "    ('model', SGDClassifier(loss='log', max_iter=1000, tol=1e-3, random_state=1, warm_start=True))\n",
        "])\n",
        "param_grid_sgdlogreg = {\n",
        "    'model__alpha': [10**-5, 10**-2, 10**1],\n",
        "    'model__penalty': ['l1', 'l2']\n",
        "}\n",
        "grid_sgdlogreg = GridSearchCV(estimator=pipeline_sgdlogreg, param_grid=param_grid_sgdlogreg, scoring='roc_auc', n_jobs=1, pre_dispatch=1, cv=5, verbose=3, return_train_score=False)\n",
        "grid_sgdlogreg.fit(x_train, y_train)"
      ],
      "execution_count": 10,
      "outputs": [
        {
          "output_type": "stream",
          "text": [
            "Fitting 5 folds for each of 6 candidates, totalling 30 fits\n",
            "[CV] model__alpha=1e-05, model__penalty=l1 ...........................\n",
            "[CV]  model__alpha=1e-05, model__penalty=l1, score=0.7010349148332748, total=  30.1s\n",
            "[CV] model__alpha=1e-05, model__penalty=l1 ...........................\n"
          ],
          "name": "stdout"
        },
        {
          "output_type": "stream",
          "text": [
            "[Parallel(n_jobs=1)]: Done   1 out of   1 | elapsed:   30.1s remaining:    0.0s\n"
          ],
          "name": "stderr"
        },
        {
          "output_type": "stream",
          "text": [
            "[CV]  model__alpha=1e-05, model__penalty=l1, score=0.6898272896406376, total=  27.5s\n",
            "[CV] model__alpha=1e-05, model__penalty=l1 ...........................\n"
          ],
          "name": "stdout"
        },
        {
          "output_type": "stream",
          "text": [
            "[Parallel(n_jobs=1)]: Done   2 out of   2 | elapsed:   57.5s remaining:    0.0s\n"
          ],
          "name": "stderr"
        },
        {
          "output_type": "stream",
          "text": [
            "[CV]  model__alpha=1e-05, model__penalty=l1, score=0.6758600455331221, total=  27.1s\n",
            "[CV] model__alpha=1e-05, model__penalty=l1 ...........................\n",
            "[CV]  model__alpha=1e-05, model__penalty=l1, score=0.6800974139856835, total=  30.9s\n",
            "[CV] model__alpha=1e-05, model__penalty=l1 ...........................\n",
            "[CV]  model__alpha=1e-05, model__penalty=l1, score=0.6796022027248863, total=  31.8s\n",
            "[CV] model__alpha=1e-05, model__penalty=l2 ...........................\n",
            "[CV]  model__alpha=1e-05, model__penalty=l2, score=0.6627710264892599, total=  23.6s\n",
            "[CV] model__alpha=1e-05, model__penalty=l2 ...........................\n",
            "[CV]  model__alpha=1e-05, model__penalty=l2, score=0.6892817148977037, total=  24.9s\n",
            "[CV] model__alpha=1e-05, model__penalty=l2 ...........................\n",
            "[CV]  model__alpha=1e-05, model__penalty=l2, score=0.6773933838807986, total=  24.4s\n",
            "[CV] model__alpha=1e-05, model__penalty=l2 ...........................\n",
            "[CV]  model__alpha=1e-05, model__penalty=l2, score=0.6860038876376973, total=  26.4s\n",
            "[CV] model__alpha=1e-05, model__penalty=l2 ...........................\n",
            "[CV]  model__alpha=1e-05, model__penalty=l2, score=0.6614167470682072, total=  20.7s\n",
            "[CV] model__alpha=0.01, model__penalty=l1 ............................\n",
            "[CV]  model__alpha=0.01, model__penalty=l1, score=0.7216426927683521, total=  16.7s\n",
            "[CV] model__alpha=0.01, model__penalty=l1 ............................\n",
            "[CV]  model__alpha=0.01, model__penalty=l1, score=0.6955870812279406, total=  56.9s\n",
            "[CV] model__alpha=0.01, model__penalty=l1 ............................\n",
            "[CV]  model__alpha=0.01, model__penalty=l1, score=0.7097755339080527, total= 1.5min\n",
            "[CV] model__alpha=0.01, model__penalty=l1 ............................\n",
            "[CV]  model__alpha=0.01, model__penalty=l1, score=0.6946536196904319, total=  14.3s\n",
            "[CV] model__alpha=0.01, model__penalty=l1 ............................\n",
            "[CV]  model__alpha=0.01, model__penalty=l1, score=0.6923267333555283, total=  25.4s\n",
            "[CV] model__alpha=0.01, model__penalty=l2 ............................\n",
            "[CV]  model__alpha=0.01, model__penalty=l2, score=0.7199854837695812, total=  13.6s\n",
            "[CV] model__alpha=0.01, model__penalty=l2 ............................\n",
            "[CV]  model__alpha=0.01, model__penalty=l2, score=0.713581034840937, total=  13.4s\n",
            "[CV] model__alpha=0.01, model__penalty=l2 ............................\n",
            "[CV]  model__alpha=0.01, model__penalty=l2, score=0.7163233118280239, total=  13.5s\n",
            "[CV] model__alpha=0.01, model__penalty=l2 ............................\n",
            "[CV]  model__alpha=0.01, model__penalty=l2, score=0.7083547211351705, total=  13.3s\n",
            "[CV] model__alpha=0.01, model__penalty=l2 ............................\n",
            "[CV]  model__alpha=0.01, model__penalty=l2, score=0.7110810328707471, total=  13.1s\n",
            "[CV] model__alpha=10, model__penalty=l1 ..............................\n",
            "[CV] .... model__alpha=10, model__penalty=l1, score=0.5, total=  14.5s\n",
            "[CV] model__alpha=10, model__penalty=l1 ..............................\n",
            "[CV] .... model__alpha=10, model__penalty=l1, score=0.5, total=  14.2s\n",
            "[CV] model__alpha=10, model__penalty=l1 ..............................\n",
            "[CV] .... model__alpha=10, model__penalty=l1, score=0.5, total=  14.1s\n",
            "[CV] model__alpha=10, model__penalty=l1 ..............................\n",
            "[CV] .... model__alpha=10, model__penalty=l1, score=0.5, total=  15.8s\n",
            "[CV] model__alpha=10, model__penalty=l1 ..............................\n",
            "[CV] .... model__alpha=10, model__penalty=l1, score=0.5, total=  15.4s\n",
            "[CV] model__alpha=10, model__penalty=l2 ..............................\n",
            "[CV]  model__alpha=10, model__penalty=l2, score=0.7199628887874596, total=  11.7s\n",
            "[CV] model__alpha=10, model__penalty=l2 ..............................\n",
            "[CV]  model__alpha=10, model__penalty=l2, score=0.704118127982452, total=  11.8s\n",
            "[CV] model__alpha=10, model__penalty=l2 ..............................\n",
            "[CV]  model__alpha=10, model__penalty=l2, score=0.7126308514724492, total=  11.7s\n",
            "[CV] model__alpha=10, model__penalty=l2 ..............................\n",
            "[CV]  model__alpha=10, model__penalty=l2, score=0.7004617048882873, total=  13.4s\n",
            "[CV] model__alpha=10, model__penalty=l2 ..............................\n",
            "[CV]  model__alpha=10, model__penalty=l2, score=0.7008376967966367, total=  13.9s\n"
          ],
          "name": "stdout"
        },
        {
          "output_type": "stream",
          "text": [
            "[Parallel(n_jobs=1)]: Done  30 out of  30 | elapsed: 11.3min finished\n"
          ],
          "name": "stderr"
        },
        {
          "output_type": "execute_result",
          "data": {
            "text/plain": [
              "GridSearchCV(cv=5, error_score='raise',\n",
              "       estimator=Pipeline(memory=None,\n",
              "     steps=[('imputer', Imputer(axis=0, copy=False, missing_values='NaN', strategy='mean', verbose=0)), ('scaler', StandardScaler(copy=False, with_mean=True, with_std=True)), ('model', SGDClassifier(alpha=0.0001, average=False, class_weight=None, epsilon=0.1,\n",
              "       e...ty='l2', power_t=0.5, random_state=1, shuffle=True,\n",
              "       tol=0.001, verbose=0, warm_start=True))]),\n",
              "       fit_params=None, iid=True, n_jobs=1,\n",
              "       param_grid={'model__alpha': [1e-05, 0.01, 10], 'model__penalty': ['l1', 'l2']},\n",
              "       pre_dispatch=1, refit=True, return_train_score=False,\n",
              "       scoring='roc_auc', verbose=3)"
            ]
          },
          "metadata": {
            "tags": []
          },
          "execution_count": 10
        }
      ]
    },
    {
      "metadata": {
        "id": "saUi0uGcn4N9",
        "colab_type": "code",
        "colab": {
          "autoexec": {
            "startup": false,
            "wait_interval": 0
          },
          "base_uri": "https://localhost:8080/",
          "height": 34
        },
        "outputId": "beb5325a-f005-4d30-bcd7-8cf716caec6f",
        "executionInfo": {
          "status": "ok",
          "timestamp": 1533134081905,
          "user_tz": 240,
          "elapsed": 226,
          "user": {
            "displayName": "Paul Lee",
            "photoUrl": "https://lh3.googleusercontent.com/a/default-user=s128",
            "userId": "114787872793332384859"
          }
        }
      },
      "cell_type": "code",
      "source": [
        "grid_sgdlogreg.best_score_"
      ],
      "execution_count": 11,
      "outputs": [
        {
          "output_type": "execute_result",
          "data": {
            "text/plain": [
              "0.7138651282339733"
            ]
          },
          "metadata": {
            "tags": []
          },
          "execution_count": 11
        }
      ]
    },
    {
      "metadata": {
        "id": "ARTkyMZeWgxL",
        "colab_type": "code",
        "colab": {
          "autoexec": {
            "startup": false,
            "wait_interval": 0
          },
          "base_uri": "https://localhost:8080/",
          "height": 34
        },
        "outputId": "aeb339a5-5b41-4941-a12d-be63a52f3ddb",
        "executionInfo": {
          "status": "ok",
          "timestamp": 1533134091416,
          "user_tz": 240,
          "elapsed": 206,
          "user": {
            "displayName": "Paul Lee",
            "photoUrl": "https://lh3.googleusercontent.com/a/default-user=s128",
            "userId": "114787872793332384859"
          }
        }
      },
      "cell_type": "code",
      "source": [
        "grid_sgdlogreg.best_params_"
      ],
      "execution_count": 12,
      "outputs": [
        {
          "output_type": "execute_result",
          "data": {
            "text/plain": [
              "{'model__alpha': 0.01, 'model__penalty': 'l2'}"
            ]
          },
          "metadata": {
            "tags": []
          },
          "execution_count": 12
        }
      ]
    },
    {
      "metadata": {
        "id": "13xbaN9RWvXD",
        "colab_type": "text"
      },
      "cell_type": "markdown",
      "source": [
        "### *5.2 Random Forest Classifier*"
      ]
    },
    {
      "metadata": {
        "id": "pMFyP56pWjB6",
        "colab_type": "code",
        "colab": {
          "autoexec": {
            "startup": false,
            "wait_interval": 0
          },
          "base_uri": "https://localhost:8080/",
          "height": 451
        },
        "outputId": "74ff2f2a-ecca-40f3-b4c7-b9bb172c12e7",
        "executionInfo": {
          "status": "ok",
          "timestamp": 1533135124684,
          "user_tz": 240,
          "elapsed": 1028446,
          "user": {
            "displayName": "Paul Lee",
            "photoUrl": "https://lh3.googleusercontent.com/a/default-user=s128",
            "userId": "114787872793332384859"
          }
        }
      },
      "cell_type": "code",
      "source": [
        "from sklearn.ensemble import RandomForestClassifier\n",
        "\n",
        "pipeline_rfc = Pipeline([\n",
        "    ('imputer', Imputer(copy=False)),\n",
        "    ('model', RandomForestClassifier(n_jobs=-1, random_state=1))\n",
        "])\n",
        "param_grid_rfc = {\n",
        "    'model__n_estimators': [50] # The number of randomized trees to build\n",
        "}\n",
        "grid_rfc = GridSearchCV(estimator=pipeline_rfc, param_grid=param_grid_rfc, scoring='roc_auc', n_jobs=1, pre_dispatch=1, cv=5, verbose=5, return_train_score=False)\n",
        "grid_rfc.fit(x_train, y_train)"
      ],
      "execution_count": 13,
      "outputs": [
        {
          "output_type": "stream",
          "text": [
            "Fitting 5 folds for each of 1 candidates, totalling 5 fits\n",
            "[CV] model__n_estimators=50 ..........................................\n",
            "[CV] . model__n_estimators=50, score=0.6988771556208172, total= 2.7min\n"
          ],
          "name": "stdout"
        },
        {
          "output_type": "stream",
          "text": [
            "[Parallel(n_jobs=1)]: Done   1 out of   1 | elapsed:  2.7min remaining:    0.0s\n"
          ],
          "name": "stderr"
        },
        {
          "output_type": "stream",
          "text": [
            "[CV] model__n_estimators=50 ..........................................\n",
            "[CV] . model__n_estimators=50, score=0.6959914822847133, total= 3.4min\n"
          ],
          "name": "stdout"
        },
        {
          "output_type": "stream",
          "text": [
            "[Parallel(n_jobs=1)]: Done   2 out of   2 | elapsed:  6.1min remaining:    0.0s\n"
          ],
          "name": "stderr"
        },
        {
          "output_type": "stream",
          "text": [
            "[CV] model__n_estimators=50 ..........................................\n",
            "[CV] . model__n_estimators=50, score=0.6969829746589884, total= 2.5min\n"
          ],
          "name": "stdout"
        },
        {
          "output_type": "stream",
          "text": [
            "[Parallel(n_jobs=1)]: Done   3 out of   3 | elapsed:  8.6min remaining:    0.0s\n"
          ],
          "name": "stderr"
        },
        {
          "output_type": "stream",
          "text": [
            "[CV] model__n_estimators=50 ..........................................\n",
            "[CV] . model__n_estimators=50, score=0.6946185959248549, total= 2.4min\n"
          ],
          "name": "stdout"
        },
        {
          "output_type": "stream",
          "text": [
            "[Parallel(n_jobs=1)]: Done   4 out of   4 | elapsed: 11.0min remaining:    0.0s\n"
          ],
          "name": "stderr"
        },
        {
          "output_type": "stream",
          "text": [
            "[CV] model__n_estimators=50 ..........................................\n",
            "[CV] . model__n_estimators=50, score=0.6998522640011865, total= 2.4min\n"
          ],
          "name": "stdout"
        },
        {
          "output_type": "stream",
          "text": [
            "[Parallel(n_jobs=1)]: Done   5 out of   5 | elapsed: 13.4min finished\n"
          ],
          "name": "stderr"
        },
        {
          "output_type": "execute_result",
          "data": {
            "text/plain": [
              "GridSearchCV(cv=5, error_score='raise',\n",
              "       estimator=Pipeline(memory=None,\n",
              "     steps=[('imputer', Imputer(axis=0, copy=False, missing_values='NaN', strategy='mean', verbose=0)), ('model', RandomForestClassifier(bootstrap=True, class_weight=None, criterion='gini',\n",
              "            max_depth=None, max_features='auto', max_leaf_nodes=None,\n",
              "            min_impurity_decrease=0.0, min_im...stimators=10, n_jobs=-1,\n",
              "            oob_score=False, random_state=1, verbose=0, warm_start=False))]),\n",
              "       fit_params=None, iid=True, n_jobs=1,\n",
              "       param_grid={'model__n_estimators': [50]}, pre_dispatch=1,\n",
              "       refit=True, return_train_score=False, scoring='roc_auc', verbose=5)"
            ]
          },
          "metadata": {
            "tags": []
          },
          "execution_count": 13
        }
      ]
    },
    {
      "metadata": {
        "id": "Nb8Sf22joC5j",
        "colab_type": "code",
        "colab": {
          "autoexec": {
            "startup": false,
            "wait_interval": 0
          },
          "base_uri": "https://localhost:8080/",
          "height": 34
        },
        "outputId": "5a47e80c-bee4-4e36-c3e7-8777b550ceb3",
        "executionInfo": {
          "status": "ok",
          "timestamp": 1533138455084,
          "user_tz": 240,
          "elapsed": 209,
          "user": {
            "displayName": "Paul Lee",
            "photoUrl": "https://lh3.googleusercontent.com/a/default-user=s128",
            "userId": "114787872793332384859"
          }
        }
      },
      "cell_type": "code",
      "source": [
        "grid_rfc.best_score_"
      ],
      "execution_count": 14,
      "outputs": [
        {
          "output_type": "execute_result",
          "data": {
            "text/plain": [
              "0.6972644945776202"
            ]
          },
          "metadata": {
            "tags": []
          },
          "execution_count": 14
        }
      ]
    },
    {
      "metadata": {
        "id": "FXydRTKdrffx",
        "colab_type": "text"
      },
      "cell_type": "markdown",
      "source": [
        "### *5.3 K-Nearest Neighbors*"
      ]
    },
    {
      "metadata": {
        "id": "4oS1x1sqrapE",
        "colab_type": "code",
        "colab": {
          "autoexec": {
            "startup": false,
            "wait_interval": 0
          },
          "base_uri": "https://localhost:8080/",
          "height": 1305
        },
        "outputId": "75b12980-ec8f-415b-de44-09d23d821b2d",
        "executionInfo": {
          "status": "ok",
          "timestamp": 1533139640690,
          "user_tz": 240,
          "elapsed": 1181954,
          "user": {
            "displayName": "Paul Lee",
            "photoUrl": "https://lh3.googleusercontent.com/a/default-user=s128",
            "userId": "114787872793332384859"
          }
        }
      },
      "cell_type": "code",
      "source": [
        "from sklearn.neighbors import KNeighborsClassifier\n",
        "\n",
        "pipeline_knn = Pipeline([\n",
        "    ('imputer', Imputer(copy=False)),\n",
        "    ('scaler', StandardScaler(copy=False)),\n",
        "    ('lda', LinearDiscriminantAnalysis()),\n",
        "    ('model', KNeighborsClassifier(n_jobs=-1))\n",
        "])\n",
        "\n",
        "param_grid_knn = {\n",
        "    'lda__n_components': [3, 9], # Number of LDA components to keep\n",
        "    'model__n_neighbors': [5, 25, 125] # The 'k' in k-nearest neighbors\n",
        "}\n",
        "\n",
        "grid_knn = GridSearchCV(estimator=pipeline_knn, param_grid=param_grid_knn, scoring='roc_auc', n_jobs=1, pre_dispatch=1, cv=5, verbose=2, return_train_score=False)\n",
        "\n",
        "grid_knn.fit(x_train, y_train)"
      ],
      "execution_count": 15,
      "outputs": [
        {
          "output_type": "stream",
          "text": [
            "Fitting 5 folds for each of 6 candidates, totalling 30 fits\n",
            "[CV] lda__n_components=3, model__n_neighbors=5 .......................\n",
            "[CV] ........ lda__n_components=3, model__n_neighbors=5, total=  46.0s\n",
            "[CV] lda__n_components=3, model__n_neighbors=5 .......................\n"
          ],
          "name": "stdout"
        },
        {
          "output_type": "stream",
          "text": [
            "[Parallel(n_jobs=1)]: Done   1 out of   1 | elapsed:   46.0s remaining:    0.0s\n"
          ],
          "name": "stderr"
        },
        {
          "output_type": "stream",
          "text": [
            "[CV] ........ lda__n_components=3, model__n_neighbors=5, total=  42.1s\n",
            "[CV] lda__n_components=3, model__n_neighbors=5 .......................\n",
            "[CV] ........ lda__n_components=3, model__n_neighbors=5, total=  39.0s\n",
            "[CV] lda__n_components=3, model__n_neighbors=5 .......................\n",
            "[CV] ........ lda__n_components=3, model__n_neighbors=5, total=  33.6s\n",
            "[CV] lda__n_components=3, model__n_neighbors=5 .......................\n",
            "[CV] ........ lda__n_components=3, model__n_neighbors=5, total=  32.7s\n",
            "[CV] lda__n_components=3, model__n_neighbors=25 ......................\n",
            "[CV] ....... lda__n_components=3, model__n_neighbors=25, total=  33.3s\n",
            "[CV] lda__n_components=3, model__n_neighbors=25 ......................\n",
            "[CV] ....... lda__n_components=3, model__n_neighbors=25, total=  33.1s\n",
            "[CV] lda__n_components=3, model__n_neighbors=25 ......................\n",
            "[CV] ....... lda__n_components=3, model__n_neighbors=25, total=  33.6s\n",
            "[CV] lda__n_components=3, model__n_neighbors=25 ......................\n",
            "[CV] ....... lda__n_components=3, model__n_neighbors=25, total=  33.6s\n",
            "[CV] lda__n_components=3, model__n_neighbors=25 ......................\n",
            "[CV] ....... lda__n_components=3, model__n_neighbors=25, total=  33.1s\n",
            "[CV] lda__n_components=3, model__n_neighbors=125 .....................\n",
            "[CV] ...... lda__n_components=3, model__n_neighbors=125, total=  36.2s\n",
            "[CV] lda__n_components=3, model__n_neighbors=125 .....................\n",
            "[CV] ...... lda__n_components=3, model__n_neighbors=125, total=  36.2s\n",
            "[CV] lda__n_components=3, model__n_neighbors=125 .....................\n",
            "[CV] ...... lda__n_components=3, model__n_neighbors=125, total=  37.2s\n",
            "[CV] lda__n_components=3, model__n_neighbors=125 .....................\n",
            "[CV] ...... lda__n_components=3, model__n_neighbors=125, total=  37.2s\n",
            "[CV] lda__n_components=3, model__n_neighbors=125 .....................\n",
            "[CV] ...... lda__n_components=3, model__n_neighbors=125, total=  36.5s\n",
            "[CV] lda__n_components=9, model__n_neighbors=5 .......................\n",
            "[CV] ........ lda__n_components=9, model__n_neighbors=5, total=  33.1s\n",
            "[CV] lda__n_components=9, model__n_neighbors=5 .......................\n",
            "[CV] ........ lda__n_components=9, model__n_neighbors=5, total=  33.6s\n",
            "[CV] lda__n_components=9, model__n_neighbors=5 .......................\n",
            "[CV] ........ lda__n_components=9, model__n_neighbors=5, total=  41.9s\n",
            "[CV] lda__n_components=9, model__n_neighbors=5 .......................\n",
            "[CV] ........ lda__n_components=9, model__n_neighbors=5, total=  43.0s\n",
            "[CV] lda__n_components=9, model__n_neighbors=5 .......................\n",
            "[CV] ........ lda__n_components=9, model__n_neighbors=5, total=  43.7s\n",
            "[CV] lda__n_components=9, model__n_neighbors=25 ......................\n",
            "[CV] ....... lda__n_components=9, model__n_neighbors=25, total=  45.7s\n",
            "[CV] lda__n_components=9, model__n_neighbors=25 ......................\n",
            "[CV] ....... lda__n_components=9, model__n_neighbors=25, total=  46.1s\n",
            "[CV] lda__n_components=9, model__n_neighbors=25 ......................\n",
            "[CV] ....... lda__n_components=9, model__n_neighbors=25, total=  45.2s\n",
            "[CV] lda__n_components=9, model__n_neighbors=25 ......................\n",
            "[CV] ....... lda__n_components=9, model__n_neighbors=25, total=  42.5s\n",
            "[CV] lda__n_components=9, model__n_neighbors=25 ......................\n",
            "[CV] ....... lda__n_components=9, model__n_neighbors=25, total=  38.1s\n",
            "[CV] lda__n_components=9, model__n_neighbors=125 .....................\n",
            "[CV] ...... lda__n_components=9, model__n_neighbors=125, total=  36.6s\n",
            "[CV] lda__n_components=9, model__n_neighbors=125 .....................\n",
            "[CV] ...... lda__n_components=9, model__n_neighbors=125, total=  36.5s\n",
            "[CV] lda__n_components=9, model__n_neighbors=125 .....................\n",
            "[CV] ...... lda__n_components=9, model__n_neighbors=125, total=  37.0s\n",
            "[CV] lda__n_components=9, model__n_neighbors=125 .....................\n",
            "[CV] ...... lda__n_components=9, model__n_neighbors=125, total=  37.1s\n",
            "[CV] lda__n_components=9, model__n_neighbors=125 .....................\n",
            "[CV] ...... lda__n_components=9, model__n_neighbors=125, total=  36.5s\n"
          ],
          "name": "stdout"
        },
        {
          "output_type": "stream",
          "text": [
            "[Parallel(n_jobs=1)]: Done  30 out of  30 | elapsed: 19.0min finished\n"
          ],
          "name": "stderr"
        },
        {
          "output_type": "execute_result",
          "data": {
            "text/plain": [
              "GridSearchCV(cv=5, error_score='raise',\n",
              "       estimator=Pipeline(memory=None,\n",
              "     steps=[('imputer', Imputer(axis=0, copy=False, missing_values='NaN', strategy='mean', verbose=0)), ('scaler', StandardScaler(copy=False, with_mean=True, with_std=True)), ('lda', LinearDiscriminantAnalysis(n_components=None, priors=None, shrinkage=None,\n",
              "          ...ski',\n",
              "           metric_params=None, n_jobs=-1, n_neighbors=5, p=2,\n",
              "           weights='uniform'))]),\n",
              "       fit_params=None, iid=True, n_jobs=1,\n",
              "       param_grid={'lda__n_components': [3, 9], 'model__n_neighbors': [5, 25, 125]},\n",
              "       pre_dispatch=1, refit=True, return_train_score=False,\n",
              "       scoring='roc_auc', verbose=2)"
            ]
          },
          "metadata": {
            "tags": []
          },
          "execution_count": 15
        }
      ]
    },
    {
      "metadata": {
        "id": "J1ddZS5Y3xcO",
        "colab_type": "code",
        "colab": {
          "autoexec": {
            "startup": false,
            "wait_interval": 0
          },
          "base_uri": "https://localhost:8080/",
          "height": 34
        },
        "outputId": "64b1f030-14e7-49b8-fd80-f9aec384faee",
        "executionInfo": {
          "status": "ok",
          "timestamp": 1533139738536,
          "user_tz": 240,
          "elapsed": 236,
          "user": {
            "displayName": "Paul Lee",
            "photoUrl": "https://lh3.googleusercontent.com/a/default-user=s128",
            "userId": "114787872793332384859"
          }
        }
      },
      "cell_type": "code",
      "source": [
        "grid_knn.best_score_"
      ],
      "execution_count": 16,
      "outputs": [
        {
          "output_type": "execute_result",
          "data": {
            "text/plain": [
              "0.7098796124703738"
            ]
          },
          "metadata": {
            "tags": []
          },
          "execution_count": 16
        }
      ]
    },
    {
      "metadata": {
        "id": "Pu0HYmDZ-EVK",
        "colab_type": "code",
        "colab": {
          "autoexec": {
            "startup": false,
            "wait_interval": 0
          },
          "base_uri": "https://localhost:8080/",
          "height": 34
        },
        "outputId": "53b5a1bb-b34d-46f5-8105-8ce67aa72818",
        "executionInfo": {
          "status": "ok",
          "timestamp": 1533139739873,
          "user_tz": 240,
          "elapsed": 173,
          "user": {
            "displayName": "Paul Lee",
            "photoUrl": "https://lh3.googleusercontent.com/a/default-user=s128",
            "userId": "114787872793332384859"
          }
        }
      },
      "cell_type": "code",
      "source": [
        "grid_knn.best_params_"
      ],
      "execution_count": 17,
      "outputs": [
        {
          "output_type": "execute_result",
          "data": {
            "text/plain": [
              "{'lda__n_components': 3, 'model__n_neighbors': 125}"
            ]
          },
          "metadata": {
            "tags": []
          },
          "execution_count": 17
        }
      ]
    },
    {
      "metadata": {
        "id": "hoGBKdhS-oaB",
        "colab_type": "text"
      },
      "cell_type": "markdown",
      "source": [
        "### *5.4 Tune hyperparameters on the chosen model more finely*"
      ]
    },
    {
      "metadata": {
        "id": "omzCZpq1-GTN",
        "colab_type": "code",
        "colab": {
          "autoexec": {
            "startup": false,
            "wait_interval": 0
          },
          "base_uri": "https://localhost:8080/",
          "height": 86
        },
        "outputId": "171aa391-be78-4341-a885-f685553487ca",
        "executionInfo": {
          "status": "ok",
          "timestamp": 1533139742846,
          "user_tz": 240,
          "elapsed": 178,
          "user": {
            "displayName": "Paul Lee",
            "photoUrl": "https://lh3.googleusercontent.com/a/default-user=s128",
            "userId": "114787872793332384859"
          }
        }
      },
      "cell_type": "code",
      "source": [
        "print('Cross-validated AUROC scores')\n",
        "print(grid_sgdlogreg.best_score_, '- Logistic regression')\n",
        "print(grid_rfc.best_score_, '- Random forest')\n",
        "print(grid_knn.best_score_, '- k-nearest neighbors')"
      ],
      "execution_count": 18,
      "outputs": [
        {
          "output_type": "stream",
          "text": [
            "Cross-validated AUROC scores\n",
            "0.7138651282339733 - Logistic regression\n",
            "0.6972644945776202 - Random forest\n",
            "0.7098796124703738 - k-nearest neighbors\n"
          ],
          "name": "stdout"
        }
      ]
    },
    {
      "metadata": {
        "id": "F8y2GznQ-wPr",
        "colab_type": "code",
        "colab": {
          "autoexec": {
            "startup": false,
            "wait_interval": 0
          },
          "base_uri": "https://localhost:8080/",
          "height": 263
        },
        "outputId": "99d4b44f-9f79-4b86-ff6a-1170da8db759",
        "executionInfo": {
          "status": "ok",
          "timestamp": 1533141786437,
          "user_tz": 240,
          "elapsed": 2034768,
          "user": {
            "displayName": "Paul Lee",
            "photoUrl": "https://lh3.googleusercontent.com/a/default-user=s128",
            "userId": "114787872793332384859"
          }
        }
      },
      "cell_type": "code",
      "source": [
        "param_grid_sgdlogreg = {\n",
        "    'model__alpha': np.logspace(-4.5, 0.5, 11), # Fills in the gaps between 10^-5 and 10^1\n",
        "    'model__penalty': ['l1', 'l2']\n",
        "}\n",
        "grid_sgdlogreg = GridSearchCV(estimator=pipeline_sgdlogreg, param_grid=param_grid_sgdlogreg, scoring='roc_auc', n_jobs=1, pre_dispatch=1, cv=5, verbose=1, return_train_score=False)\n",
        "grid_sgdlogreg.fit(x_train, y_train)"
      ],
      "execution_count": 19,
      "outputs": [
        {
          "output_type": "stream",
          "text": [
            "Fitting 5 folds for each of 22 candidates, totalling 110 fits\n"
          ],
          "name": "stdout"
        },
        {
          "output_type": "stream",
          "text": [
            "[Parallel(n_jobs=1)]: Done 110 out of 110 | elapsed: 33.7min finished\n"
          ],
          "name": "stderr"
        },
        {
          "output_type": "execute_result",
          "data": {
            "text/plain": [
              "GridSearchCV(cv=5, error_score='raise',\n",
              "       estimator=Pipeline(memory=None,\n",
              "     steps=[('imputer', Imputer(axis=0, copy=False, missing_values='NaN', strategy='mean', verbose=0)), ('scaler', StandardScaler(copy=False, with_mean=True, with_std=True)), ('model', SGDClassifier(alpha=0.0001, average=False, class_weight=None, epsilon=0.1,\n",
              "       e...ty='l2', power_t=0.5, random_state=1, shuffle=True,\n",
              "       tol=0.001, verbose=0, warm_start=True))]),\n",
              "       fit_params=None, iid=True, n_jobs=1,\n",
              "       param_grid={'model__alpha': array([3.16228e-05, 1.00000e-04, 3.16228e-04, 1.00000e-03, 3.16228e-03,\n",
              "       1.00000e-02, 3.16228e-02, 1.00000e-01, 3.16228e-01, 1.00000e+00,\n",
              "       3.16228e+00]), 'model__penalty': ['l1', 'l2']},\n",
              "       pre_dispatch=1, refit=True, return_train_score=False,\n",
              "       scoring='roc_auc', verbose=1)"
            ]
          },
          "metadata": {
            "tags": []
          },
          "execution_count": 19
        }
      ]
    },
    {
      "metadata": {
        "id": "axOBLsQFEDYI",
        "colab_type": "code",
        "colab": {
          "autoexec": {
            "startup": false,
            "wait_interval": 0
          },
          "base_uri": "https://localhost:8080/",
          "height": 34
        },
        "outputId": "d0fd363d-7803-4a8c-f9a2-1024aa2cac31",
        "executionInfo": {
          "status": "ok",
          "timestamp": 1533142951039,
          "user_tz": 240,
          "elapsed": 202,
          "user": {
            "displayName": "Paul Lee",
            "photoUrl": "https://lh3.googleusercontent.com/a/default-user=s128",
            "userId": "114787872793332384859"
          }
        }
      },
      "cell_type": "code",
      "source": [
        "grid_sgdlogreg.best_score_"
      ],
      "execution_count": 20,
      "outputs": [
        {
          "output_type": "execute_result",
          "data": {
            "text/plain": [
              "0.7138651282339733"
            ]
          },
          "metadata": {
            "tags": []
          },
          "execution_count": 20
        }
      ]
    },
    {
      "metadata": {
        "id": "YWCzeHFKEEzh",
        "colab_type": "code",
        "colab": {
          "autoexec": {
            "startup": false,
            "wait_interval": 0
          },
          "base_uri": "https://localhost:8080/",
          "height": 34
        },
        "outputId": "da38777e-9b1c-4d4b-8cf3-c9f21658d5bc",
        "executionInfo": {
          "status": "ok",
          "timestamp": 1533142952199,
          "user_tz": 240,
          "elapsed": 148,
          "user": {
            "displayName": "Paul Lee",
            "photoUrl": "https://lh3.googleusercontent.com/a/default-user=s128",
            "userId": "114787872793332384859"
          }
        }
      },
      "cell_type": "code",
      "source": [
        "grid_sgdlogreg.best_params_"
      ],
      "execution_count": 21,
      "outputs": [
        {
          "output_type": "execute_result",
          "data": {
            "text/plain": [
              "{'model__alpha': 0.01, 'model__penalty': 'l2'}"
            ]
          },
          "metadata": {
            "tags": []
          },
          "execution_count": 21
        }
      ]
    },
    {
      "metadata": {
        "id": "SPV4_7x7FLjo",
        "colab_type": "text"
      },
      "cell_type": "markdown",
      "source": [
        "### *5.5 Test Set Evaluation*"
      ]
    },
    {
      "metadata": {
        "id": "d2crf1-RFW1m",
        "colab_type": "code",
        "colab": {
          "autoexec": {
            "startup": false,
            "wait_interval": 0
          },
          "base_uri": "https://localhost:8080/",
          "height": 34
        },
        "outputId": "1725f19d-9df6-4bf0-fbe5-72b5c57bfd50",
        "executionInfo": {
          "status": "ok",
          "timestamp": 1533147315118,
          "user_tz": 240,
          "elapsed": 802,
          "user": {
            "displayName": "Paul Lee",
            "photoUrl": "https://lh3.googleusercontent.com/a/default-user=s128",
            "userId": "114787872793332384859"
          }
        }
      },
      "cell_type": "code",
      "source": [
        "from sklearn.metrics import roc_auc_score\n",
        "\n",
        "y_score = grid_sgdlogreg.predict_proba(x_test)[:,1]\n",
        "roc_auc_score(y_test, y_score)"
      ],
      "execution_count": 23,
      "outputs": [
        {
          "output_type": "execute_result",
          "data": {
            "text/plain": [
              "0.6893909107572427"
            ]
          },
          "metadata": {
            "tags": []
          },
          "execution_count": 23
        }
      ]
    },
    {
      "metadata": {
        "id": "-U7GBaIJZSzH",
        "colab_type": "text"
      },
      "cell_type": "markdown",
      "source": [
        "# **6. Linear Regression**"
      ]
    },
    {
      "metadata": {
        "id": "o0UtP8h4ZigK",
        "colab_type": "code",
        "colab": {
          "autoexec": {
            "startup": false,
            "wait_interval": 0
          }
        }
      },
      "cell_type": "code",
      "source": [
        "from sklearn.linear_model import LinearRegression\n",
        "from sklearn.model_selection import GridSearchCV\n",
        "\n",
        "y2_train = loans_train['int_rate']\n",
        "y2_test = loans_test['int_rate']\n",
        "x2_train = loans_train['fico_score']\n",
        "x2_test = loans_test['fico_score']"
      ],
      "execution_count": 0,
      "outputs": []
    },
    {
      "metadata": {
        "id": "VSu5ZzU2z4HI",
        "colab_type": "code",
        "colab": {
          "autoexec": {
            "startup": false,
            "wait_interval": 0
          },
          "base_uri": "https://localhost:8080/",
          "height": 121
        },
        "outputId": "8f43a9ae-3c19-48d9-fb75-0fe12e4cf821",
        "executionInfo": {
          "status": "ok",
          "timestamp": 1533237093523,
          "user_tz": 240,
          "elapsed": 550,
          "user": {
            "displayName": "Paul Lee",
            "photoUrl": "https://lh3.googleusercontent.com/a/default-user=s128",
            "userId": "114787872793332384859"
          }
        }
      },
      "cell_type": "code",
      "source": [
        "x2_train.sample(5)"
      ],
      "execution_count": 75,
      "outputs": [
        {
          "output_type": "execute_result",
          "data": {
            "text/plain": [
              "98520     702.0\n",
              "807586    742.0\n",
              "930208    697.0\n",
              "287153    692.0\n",
              "201600    692.0\n",
              "Name: fico_score, dtype: float64"
            ]
          },
          "metadata": {
            "tags": []
          },
          "execution_count": 75
        }
      ]
    },
    {
      "metadata": {
        "id": "tPz3dsIE1GYc",
        "colab_type": "code",
        "colab": {
          "autoexec": {
            "startup": false,
            "wait_interval": 0
          },
          "base_uri": "https://localhost:8080/",
          "height": 347
        },
        "outputId": "0169fad9-ad4a-4e2d-8cc1-9d1c383b7fc8",
        "executionInfo": {
          "status": "ok",
          "timestamp": 1533237100543,
          "user_tz": 240,
          "elapsed": 6630,
          "user": {
            "displayName": "Paul Lee",
            "photoUrl": "https://lh3.googleusercontent.com/a/default-user=s128",
            "userId": "114787872793332384859"
          }
        }
      },
      "cell_type": "code",
      "source": [
        "import matplotlib.pyplot as plt\n",
        "from matplotlib import style\n",
        "plt.scatter(x2_train, y2_train)\n",
        "plt.show()"
      ],
      "execution_count": 76,
      "outputs": [
        {
          "output_type": "display_data",
          "data": {
            "image/png": "[encoded data removed]",
            "text/plain": [
              "<matplotlib.figure.Figure at 0x7f40e7a516d8>"
            ]
          },
          "metadata": {
            "tags": []
          }
        }
      ]
    },
    {
      "metadata": {
        "id": "KACFFSH93OL9",
        "colab_type": "code",
        "colab": {
          "autoexec": {
            "startup": false,
            "wait_interval": 0
          },
          "base_uri": "https://localhost:8080/",
          "height": 34
        },
        "outputId": "cd2da4b8-13f6-4a2a-f62b-a0c0d0f7866f",
        "executionInfo": {
          "status": "ok",
          "timestamp": 1533237101924,
          "user_tz": 240,
          "elapsed": 433,
          "user": {
            "displayName": "Paul Lee",
            "photoUrl": "https://lh3.googleusercontent.com/a/default-user=s128",
            "userId": "114787872793332384859"
          }
        }
      },
      "cell_type": "code",
      "source": [
        "x2_train = x2_train.values.reshape(-1, 1)\n",
        "y2_train = y2_train.values.reshape(-1, 1)\n",
        "model = LinearRegression()\n",
        "model.fit(x2_train, y2_train)"
      ],
      "execution_count": 77,
      "outputs": [
        {
          "output_type": "execute_result",
          "data": {
            "text/plain": [
              "LinearRegression(copy_X=True, fit_intercept=True, n_jobs=1, normalize=False)"
            ]
          },
          "metadata": {
            "tags": []
          },
          "execution_count": 77
        }
      ]
    },
    {
      "metadata": {
        "id": "hpFcq1Z48tQD",
        "colab_type": "code",
        "colab": {
          "autoexec": {
            "startup": false,
            "wait_interval": 0
          },
          "base_uri": "https://localhost:8080/",
          "height": 34
        },
        "outputId": "d3272b6b-b980-488f-d259-aab19aaf5063",
        "executionInfo": {
          "status": "ok",
          "timestamp": 1533237102985,
          "user_tz": 240,
          "elapsed": 499,
          "user": {
            "displayName": "Paul Lee",
            "photoUrl": "https://lh3.googleusercontent.com/a/default-user=s128",
            "userId": "114787872793332384859"
          }
        }
      },
      "cell_type": "code",
      "source": [
        "print(model.coef_)"
      ],
      "execution_count": 78,
      "outputs": [
        {
          "output_type": "stream",
          "text": [
            "[[-0.06387737]]\n"
          ],
          "name": "stdout"
        }
      ]
    },
    {
      "metadata": {
        "id": "CsYslkSW-qzK",
        "colab_type": "code",
        "colab": {
          "autoexec": {
            "startup": false,
            "wait_interval": 0
          },
          "base_uri": "https://localhost:8080/",
          "height": 34
        },
        "outputId": "b4336933-ada8-4ad3-dc51-e1fd701fb554",
        "executionInfo": {
          "status": "ok",
          "timestamp": 1533237104363,
          "user_tz": 240,
          "elapsed": 852,
          "user": {
            "displayName": "Paul Lee",
            "photoUrl": "https://lh3.googleusercontent.com/a/default-user=s128",
            "userId": "114787872793332384859"
          }
        }
      },
      "cell_type": "code",
      "source": [
        "print(model.intercept_)"
      ],
      "execution_count": 79,
      "outputs": [
        {
          "output_type": "stream",
          "text": [
            "[57.92418676]\n"
          ],
          "name": "stdout"
        }
      ]
    },
    {
      "metadata": {
        "id": "j2efgx6l-4AS",
        "colab_type": "code",
        "colab": {
          "autoexec": {
            "startup": false,
            "wait_interval": 0
          },
          "base_uri": "https://localhost:8080/",
          "height": 34
        },
        "outputId": "46577e5f-0af3-4b7b-b5aa-eea0cc0a9a5e",
        "executionInfo": {
          "status": "ok",
          "timestamp": 1533237106308,
          "user_tz": 240,
          "elapsed": 413,
          "user": {
            "displayName": "Paul Lee",
            "photoUrl": "https://lh3.googleusercontent.com/a/default-user=s128",
            "userId": "114787872793332384859"
          }
        }
      },
      "cell_type": "code",
      "source": [
        "model.score(x2_train, y2_train)"
      ],
      "execution_count": 80,
      "outputs": [
        {
          "output_type": "execute_result",
          "data": {
            "text/plain": [
              "0.1961753816975481"
            ]
          },
          "metadata": {
            "tags": []
          },
          "execution_count": 80
        }
      ]
    },
    {
      "metadata": {
        "id": "sM6mwc-gBo8l",
        "colab_type": "code",
        "colab": {
          "autoexec": {
            "startup": false,
            "wait_interval": 0
          },
          "base_uri": "https://localhost:8080/",
          "height": 34
        },
        "outputId": "89f5af5c-bc2c-42f2-dd9b-1cb30588b134",
        "executionInfo": {
          "status": "ok",
          "timestamp": 1533237108836,
          "user_tz": 240,
          "elapsed": 421,
          "user": {
            "displayName": "Paul Lee",
            "photoUrl": "https://lh3.googleusercontent.com/a/default-user=s128",
            "userId": "114787872793332384859"
          }
        }
      },
      "cell_type": "code",
      "source": [
        "x2_test = x2_test.values.reshape(-1, 1)\n",
        "y2_test = y2_test.values.reshape(-1, 1)\n",
        "model.score(x2_test, y2_test)"
      ],
      "execution_count": 81,
      "outputs": [
        {
          "output_type": "execute_result",
          "data": {
            "text/plain": [
              "0.05807515711056887"
            ]
          },
          "metadata": {
            "tags": []
          },
          "execution_count": 81
        }
      ]
    },
    {
      "metadata": {
        "id": "kiJPkNdRBuXl",
        "colab_type": "code",
        "colab": {
          "autoexec": {
            "startup": false,
            "wait_interval": 0
          }
        }
      },
      "cell_type": "code",
      "source": [
        ""
      ],
      "execution_count": 0,
      "outputs": []
    }
  ]
}